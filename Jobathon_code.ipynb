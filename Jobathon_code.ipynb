{
  "nbformat": 4,
  "nbformat_minor": 0,
  "metadata": {
    "colab": {
      "name": "Jobathon_code.ipynb",
      "provenance": [],
      "collapsed_sections": [],
      "authorship_tag": "ABX9TyPPw9Rpmpykw+tYImgg6U/e",
      "include_colab_link": true
    },
    "kernelspec": {
      "name": "python3",
      "display_name": "Python 3"
    },
    "language_info": {
      "name": "python"
    }
  },
  "cells": [
    {
      "cell_type": "markdown",
      "metadata": {
        "id": "view-in-github",
        "colab_type": "text"
      },
      "source": [
        "<a href=\"https://colab.research.google.com/github/TerMinator-spec/Data-Engineer-Hackathon/blob/master/Jobathon_code.ipynb\" target=\"_parent\"><img src=\"https://colab.research.google.com/assets/colab-badge.svg\" alt=\"Open In Colab\"/></a>"
      ]
    },
    {
      "cell_type": "code",
      "metadata": {
        "colab": {
          "base_uri": "https://localhost:8080/"
        },
        "id": "irtEefO2X6lZ",
        "outputId": "aa5e8179-e740-4246-ee82-f8c0b7afe38b"
      },
      "source": [
        "# Mount to drive\n",
        "from google.colab import drive\n",
        "drive.mount('/content/gdrive', force_remount=True )"
      ],
      "execution_count": null,
      "outputs": [
        {
          "output_type": "stream",
          "text": [
            "Mounted at /content/gdrive\n"
          ],
          "name": "stdout"
        }
      ]
    },
    {
      "cell_type": "code",
      "metadata": {
        "colab": {
          "base_uri": "https://localhost:8080/"
        },
        "id": "TzllAJTuYsyr",
        "outputId": "d79dcd63-fd07-499d-a85c-2935ad632ffb"
      },
      "source": [
        "!unzip /content/gdrive/MyDrive/data_av.zip -d /content"
      ],
      "execution_count": null,
      "outputs": [
        {
          "output_type": "stream",
          "text": [
            "Archive:  /content/gdrive/MyDrive/data_av.zip\n",
            "   creating: /content/data/\n",
            "  inflating: /content/data/VisitorLogsData.csv  \n",
            "   creating: /content/data/.ipynb_checkpoints/\n",
            "  inflating: /content/data/userTable.csv  \n"
          ],
          "name": "stdout"
        }
      ]
    },
    {
      "cell_type": "code",
      "metadata": {
        "id": "leBmXc0sbyWa"
      },
      "source": [
        "#Import the necessary modules\n",
        "import pandas as pd\n",
        "import numpy as np"
      ],
      "execution_count": null,
      "outputs": []
    },
    {
      "cell_type": "code",
      "metadata": {
        "id": "W5wyu7uKa9fu"
      },
      "source": [
        "#Load the visitors data\n",
        "vis_data=pd.read_csv('/content/data/VisitorLogsData.csv')"
      ],
      "execution_count": null,
      "outputs": []
    },
    {
      "cell_type": "code",
      "metadata": {
        "colab": {
          "base_uri": "https://localhost:8080/",
          "height": 195
        },
        "id": "uImTqxgFcIvE",
        "outputId": "c7f1d890-6e0b-4ca8-daaa-4c1f51aca805"
      },
      "source": [
        "vis_data.head()"
      ],
      "execution_count": null,
      "outputs": [
        {
          "output_type": "execute_result",
          "data": {
            "text/html": [
              "<div>\n",
              "<style scoped>\n",
              "    .dataframe tbody tr th:only-of-type {\n",
              "        vertical-align: middle;\n",
              "    }\n",
              "\n",
              "    .dataframe tbody tr th {\n",
              "        vertical-align: top;\n",
              "    }\n",
              "\n",
              "    .dataframe thead th {\n",
              "        text-align: right;\n",
              "    }\n",
              "</style>\n",
              "<table border=\"1\" class=\"dataframe\">\n",
              "  <thead>\n",
              "    <tr style=\"text-align: right;\">\n",
              "      <th></th>\n",
              "      <th>webClientID</th>\n",
              "      <th>VisitDateTime</th>\n",
              "      <th>ProductID</th>\n",
              "      <th>UserID</th>\n",
              "      <th>Activity</th>\n",
              "      <th>Browser</th>\n",
              "      <th>OS</th>\n",
              "      <th>City</th>\n",
              "      <th>Country</th>\n",
              "    </tr>\n",
              "  </thead>\n",
              "  <tbody>\n",
              "    <tr>\n",
              "      <th>0</th>\n",
              "      <td>WI10000050298</td>\n",
              "      <td>2018-05-07 04:28:45.970</td>\n",
              "      <td>pr100631</td>\n",
              "      <td>NaN</td>\n",
              "      <td>NaN</td>\n",
              "      <td>Chrome Mobile</td>\n",
              "      <td>Android</td>\n",
              "      <td>Chennai</td>\n",
              "      <td>India</td>\n",
              "    </tr>\n",
              "    <tr>\n",
              "      <th>1</th>\n",
              "      <td>WI10000025922</td>\n",
              "      <td>2018-05-13 07:26:04.964</td>\n",
              "      <td>pr100707</td>\n",
              "      <td>NaN</td>\n",
              "      <td>NaN</td>\n",
              "      <td>Chrome</td>\n",
              "      <td>Windows</td>\n",
              "      <td>NaN</td>\n",
              "      <td>Taiwan</td>\n",
              "    </tr>\n",
              "    <tr>\n",
              "      <th>2</th>\n",
              "      <td>WI100000204522</td>\n",
              "      <td>2018-05-11 11:43:42.832</td>\n",
              "      <td>pr100030</td>\n",
              "      <td>NaN</td>\n",
              "      <td>click</td>\n",
              "      <td>Chrome</td>\n",
              "      <td>windows</td>\n",
              "      <td>Gurgaon</td>\n",
              "      <td>India</td>\n",
              "    </tr>\n",
              "    <tr>\n",
              "      <th>3</th>\n",
              "      <td>WI10000011974</td>\n",
              "      <td>2018-05-13 15:20:23.436</td>\n",
              "      <td>Pr100192</td>\n",
              "      <td>NaN</td>\n",
              "      <td>CLICK</td>\n",
              "      <td>Chrome</td>\n",
              "      <td>Windows</td>\n",
              "      <td></td>\n",
              "      <td></td>\n",
              "    </tr>\n",
              "    <tr>\n",
              "      <th>4</th>\n",
              "      <td>WI100000441953</td>\n",
              "      <td>2018-05-08 20:44:25.238</td>\n",
              "      <td>Pr100762</td>\n",
              "      <td>NaN</td>\n",
              "      <td>click</td>\n",
              "      <td>Chrome</td>\n",
              "      <td>mac os x</td>\n",
              "      <td>Iselin</td>\n",
              "      <td>United States</td>\n",
              "    </tr>\n",
              "  </tbody>\n",
              "</table>\n",
              "</div>"
            ],
            "text/plain": [
              "      webClientID            VisitDateTime  ...     City        Country\n",
              "0   WI10000050298  2018-05-07 04:28:45.970  ...  Chennai          India\n",
              "1   WI10000025922  2018-05-13 07:26:04.964  ...      NaN         Taiwan\n",
              "2  WI100000204522  2018-05-11 11:43:42.832  ...  Gurgaon          India\n",
              "3   WI10000011974  2018-05-13 15:20:23.436  ...                        \n",
              "4  WI100000441953  2018-05-08 20:44:25.238  ...   Iselin  United States\n",
              "\n",
              "[5 rows x 9 columns]"
            ]
          },
          "metadata": {
            "tags": []
          },
          "execution_count": 6
        }
      ]
    },
    {
      "cell_type": "code",
      "metadata": {
        "id": "skqMVH2scklp"
      },
      "source": [
        "#Load the user data\n",
        "user_data=pd.read_csv('/content/data/userTable.csv')"
      ],
      "execution_count": null,
      "outputs": []
    },
    {
      "cell_type": "code",
      "metadata": {
        "colab": {
          "base_uri": "https://localhost:8080/"
        },
        "id": "T7yXGCbqD0Y_",
        "outputId": "28f0821e-0bdb-4575-9ad4-8c8615432c9c"
      },
      "source": [
        "# Check the null values in user_data\n",
        "user_data.isnull().sum()"
      ],
      "execution_count": null,
      "outputs": [
        {
          "output_type": "execute_result",
          "data": {
            "text/plain": [
              "UserID          0\n",
              "Signup Date     0\n",
              "User Segment    0\n",
              "dtype: int64"
            ]
          },
          "metadata": {
            "tags": []
          },
          "execution_count": 8
        }
      ]
    },
    {
      "cell_type": "code",
      "metadata": {
        "colab": {
          "base_uri": "https://localhost:8080/",
          "height": 195
        },
        "id": "MWGTXMYJdEeP",
        "outputId": "c6074de4-d2be-414d-eb5b-4f6a45d1d7a1"
      },
      "source": [
        "user_data.head()"
      ],
      "execution_count": null,
      "outputs": [
        {
          "output_type": "execute_result",
          "data": {
            "text/html": [
              "<div>\n",
              "<style scoped>\n",
              "    .dataframe tbody tr th:only-of-type {\n",
              "        vertical-align: middle;\n",
              "    }\n",
              "\n",
              "    .dataframe tbody tr th {\n",
              "        vertical-align: top;\n",
              "    }\n",
              "\n",
              "    .dataframe thead th {\n",
              "        text-align: right;\n",
              "    }\n",
              "</style>\n",
              "<table border=\"1\" class=\"dataframe\">\n",
              "  <thead>\n",
              "    <tr style=\"text-align: right;\">\n",
              "      <th></th>\n",
              "      <th>UserID</th>\n",
              "      <th>Signup Date</th>\n",
              "      <th>User Segment</th>\n",
              "    </tr>\n",
              "  </thead>\n",
              "  <tbody>\n",
              "    <tr>\n",
              "      <th>0</th>\n",
              "      <td>U133159</td>\n",
              "      <td>2018-04-14 07:01:16.202607+00:00</td>\n",
              "      <td>C</td>\n",
              "    </tr>\n",
              "    <tr>\n",
              "      <th>1</th>\n",
              "      <td>U129368</td>\n",
              "      <td>2017-12-02 09:38:41.584270+00:00</td>\n",
              "      <td>B</td>\n",
              "    </tr>\n",
              "    <tr>\n",
              "      <th>2</th>\n",
              "      <td>U109654</td>\n",
              "      <td>2013-03-19 11:38:55+00:00</td>\n",
              "      <td>B</td>\n",
              "    </tr>\n",
              "    <tr>\n",
              "      <th>3</th>\n",
              "      <td>U108998</td>\n",
              "      <td>2018-01-18 08:29:51.627954+00:00</td>\n",
              "      <td>C</td>\n",
              "    </tr>\n",
              "    <tr>\n",
              "      <th>4</th>\n",
              "      <td>U131393</td>\n",
              "      <td>2018-03-27 08:05:28.806800+00:00</td>\n",
              "      <td>B</td>\n",
              "    </tr>\n",
              "  </tbody>\n",
              "</table>\n",
              "</div>"
            ],
            "text/plain": [
              "    UserID                       Signup Date User Segment\n",
              "0  U133159  2018-04-14 07:01:16.202607+00:00            C\n",
              "1  U129368  2017-12-02 09:38:41.584270+00:00            B\n",
              "2  U109654         2013-03-19 11:38:55+00:00            B\n",
              "3  U108998  2018-01-18 08:29:51.627954+00:00            C\n",
              "4  U131393  2018-03-27 08:05:28.806800+00:00            B"
            ]
          },
          "metadata": {
            "tags": []
          },
          "execution_count": 9
        }
      ]
    },
    {
      "cell_type": "code",
      "metadata": {
        "id": "8Tpbvf1Wdw2U"
      },
      "source": [
        "#join the two tables on user_id\n",
        "fin_data=pd.merge(vis_data, user_data,on='UserID')"
      ],
      "execution_count": null,
      "outputs": []
    },
    {
      "cell_type": "code",
      "metadata": {
        "colab": {
          "base_uri": "https://localhost:8080/",
          "height": 639
        },
        "id": "5iBtdniSAgWb",
        "outputId": "6b69e714-beae-4711-8407-5e41bd7bde61"
      },
      "source": [
        "fin_data.head(20)"
      ],
      "execution_count": null,
      "outputs": [
        {
          "output_type": "execute_result",
          "data": {
            "text/html": [
              "<div>\n",
              "<style scoped>\n",
              "    .dataframe tbody tr th:only-of-type {\n",
              "        vertical-align: middle;\n",
              "    }\n",
              "\n",
              "    .dataframe tbody tr th {\n",
              "        vertical-align: top;\n",
              "    }\n",
              "\n",
              "    .dataframe thead th {\n",
              "        text-align: right;\n",
              "    }\n",
              "</style>\n",
              "<table border=\"1\" class=\"dataframe\">\n",
              "  <thead>\n",
              "    <tr style=\"text-align: right;\">\n",
              "      <th></th>\n",
              "      <th>webClientID</th>\n",
              "      <th>VisitDateTime</th>\n",
              "      <th>ProductID</th>\n",
              "      <th>UserID</th>\n",
              "      <th>Activity</th>\n",
              "      <th>Browser</th>\n",
              "      <th>OS</th>\n",
              "      <th>City</th>\n",
              "      <th>Country</th>\n",
              "      <th>Signup Date</th>\n",
              "      <th>User Segment</th>\n",
              "    </tr>\n",
              "  </thead>\n",
              "  <tbody>\n",
              "    <tr>\n",
              "      <th>0</th>\n",
              "      <td>WI100000112772</td>\n",
              "      <td>1526366895249000000</td>\n",
              "      <td>Pr100017</td>\n",
              "      <td>U106593</td>\n",
              "      <td>click</td>\n",
              "      <td>Chrome Mobile</td>\n",
              "      <td>Android</td>\n",
              "      <td></td>\n",
              "      <td></td>\n",
              "      <td>2017-09-10 15:48:09.451327+00:00</td>\n",
              "      <td>B</td>\n",
              "    </tr>\n",
              "    <tr>\n",
              "      <th>1</th>\n",
              "      <td>WI100000112772</td>\n",
              "      <td>2018-05-16 06:53:23.737</td>\n",
              "      <td>Pr100241</td>\n",
              "      <td>U106593</td>\n",
              "      <td>pageload</td>\n",
              "      <td>Chrome Mobile</td>\n",
              "      <td>Android</td>\n",
              "      <td></td>\n",
              "      <td></td>\n",
              "      <td>2017-09-10 15:48:09.451327+00:00</td>\n",
              "      <td>B</td>\n",
              "    </tr>\n",
              "    <tr>\n",
              "      <th>2</th>\n",
              "      <td>WI100000112772</td>\n",
              "      <td>2018-05-15 06:47:49.239</td>\n",
              "      <td>Pr100017</td>\n",
              "      <td>U106593</td>\n",
              "      <td>click</td>\n",
              "      <td>Chrome Mobile</td>\n",
              "      <td>Android</td>\n",
              "      <td></td>\n",
              "      <td></td>\n",
              "      <td>2017-09-10 15:48:09.451327+00:00</td>\n",
              "      <td>B</td>\n",
              "    </tr>\n",
              "    <tr>\n",
              "      <th>3</th>\n",
              "      <td>WI100000112772</td>\n",
              "      <td>2018-05-16 06:54:26.424</td>\n",
              "      <td>pr100901</td>\n",
              "      <td>U106593</td>\n",
              "      <td>PAGELOAD</td>\n",
              "      <td>Chrome Mobile</td>\n",
              "      <td>Android</td>\n",
              "      <td></td>\n",
              "      <td></td>\n",
              "      <td>2017-09-10 15:48:09.451327+00:00</td>\n",
              "      <td>B</td>\n",
              "    </tr>\n",
              "    <tr>\n",
              "      <th>4</th>\n",
              "      <td>WI100000112772</td>\n",
              "      <td>2018-05-15 06:47:36.691</td>\n",
              "      <td>Pr100017</td>\n",
              "      <td>U106593</td>\n",
              "      <td>CLICK</td>\n",
              "      <td>Chrome Mobile</td>\n",
              "      <td>Android</td>\n",
              "      <td></td>\n",
              "      <td></td>\n",
              "      <td>2017-09-10 15:48:09.451327+00:00</td>\n",
              "      <td>B</td>\n",
              "    </tr>\n",
              "    <tr>\n",
              "      <th>5</th>\n",
              "      <td>WI100000112772</td>\n",
              "      <td>2018-05-15 06:48:27.021</td>\n",
              "      <td>pr100219</td>\n",
              "      <td>U106593</td>\n",
              "      <td>NaN</td>\n",
              "      <td>Chrome Mobile</td>\n",
              "      <td>Android</td>\n",
              "      <td></td>\n",
              "      <td></td>\n",
              "      <td>2017-09-10 15:48:09.451327+00:00</td>\n",
              "      <td>B</td>\n",
              "    </tr>\n",
              "    <tr>\n",
              "      <th>6</th>\n",
              "      <td>WI100000112772</td>\n",
              "      <td>NaN</td>\n",
              "      <td>Pr100017</td>\n",
              "      <td>U106593</td>\n",
              "      <td>pageload</td>\n",
              "      <td>Chrome Mobile</td>\n",
              "      <td>Android</td>\n",
              "      <td></td>\n",
              "      <td></td>\n",
              "      <td>2017-09-10 15:48:09.451327+00:00</td>\n",
              "      <td>B</td>\n",
              "    </tr>\n",
              "    <tr>\n",
              "      <th>7</th>\n",
              "      <td>WI100000112772</td>\n",
              "      <td>2018-05-15 06:47:04.186</td>\n",
              "      <td>Pr100219</td>\n",
              "      <td>U106593</td>\n",
              "      <td>click</td>\n",
              "      <td>Chrome Mobile</td>\n",
              "      <td>Android</td>\n",
              "      <td></td>\n",
              "      <td></td>\n",
              "      <td>2017-09-10 15:48:09.451327+00:00</td>\n",
              "      <td>B</td>\n",
              "    </tr>\n",
              "    <tr>\n",
              "      <th>8</th>\n",
              "      <td>WI100000203515</td>\n",
              "      <td>2018-05-25 10:24:49.610</td>\n",
              "      <td>Pr102651</td>\n",
              "      <td>U106593</td>\n",
              "      <td>pageload</td>\n",
              "      <td>Chrome</td>\n",
              "      <td>Windows</td>\n",
              "      <td></td>\n",
              "      <td></td>\n",
              "      <td>2017-09-10 15:48:09.451327+00:00</td>\n",
              "      <td>B</td>\n",
              "    </tr>\n",
              "    <tr>\n",
              "      <th>9</th>\n",
              "      <td>WI100000112772</td>\n",
              "      <td>2018-05-15 06:47:57.298</td>\n",
              "      <td>Pr100017</td>\n",
              "      <td>U106593</td>\n",
              "      <td>NaN</td>\n",
              "      <td>Chrome Mobile</td>\n",
              "      <td>Android</td>\n",
              "      <td></td>\n",
              "      <td></td>\n",
              "      <td>2017-09-10 15:48:09.451327+00:00</td>\n",
              "      <td>B</td>\n",
              "    </tr>\n",
              "    <tr>\n",
              "      <th>10</th>\n",
              "      <td>WI100000112772</td>\n",
              "      <td>NaN</td>\n",
              "      <td>NaN</td>\n",
              "      <td>U106593</td>\n",
              "      <td>CLICK</td>\n",
              "      <td>Chrome Mobile</td>\n",
              "      <td>Android</td>\n",
              "      <td></td>\n",
              "      <td></td>\n",
              "      <td>2017-09-10 15:48:09.451327+00:00</td>\n",
              "      <td>B</td>\n",
              "    </tr>\n",
              "    <tr>\n",
              "      <th>11</th>\n",
              "      <td>WI100000203515</td>\n",
              "      <td>2018-05-27 04:00:27.272</td>\n",
              "      <td>pr100017</td>\n",
              "      <td>U106593</td>\n",
              "      <td>pageload</td>\n",
              "      <td>Chrome</td>\n",
              "      <td>Windows</td>\n",
              "      <td></td>\n",
              "      <td></td>\n",
              "      <td>2017-09-10 15:48:09.451327+00:00</td>\n",
              "      <td>B</td>\n",
              "    </tr>\n",
              "    <tr>\n",
              "      <th>12</th>\n",
              "      <td>WI100000112772</td>\n",
              "      <td>2018-05-15 06:47:23.828</td>\n",
              "      <td>Pr100017</td>\n",
              "      <td>U106593</td>\n",
              "      <td>pageload</td>\n",
              "      <td>Chrome Mobile</td>\n",
              "      <td>Android</td>\n",
              "      <td></td>\n",
              "      <td></td>\n",
              "      <td>2017-09-10 15:48:09.451327+00:00</td>\n",
              "      <td>B</td>\n",
              "    </tr>\n",
              "    <tr>\n",
              "      <th>13</th>\n",
              "      <td>WI100000112772</td>\n",
              "      <td>2018-05-15 06:47:59.033</td>\n",
              "      <td>Pr100017</td>\n",
              "      <td>U106593</td>\n",
              "      <td>CLICK</td>\n",
              "      <td>Chrome Mobile</td>\n",
              "      <td>Android</td>\n",
              "      <td></td>\n",
              "      <td></td>\n",
              "      <td>2017-09-10 15:48:09.451327+00:00</td>\n",
              "      <td>B</td>\n",
              "    </tr>\n",
              "    <tr>\n",
              "      <th>14</th>\n",
              "      <td>WI100000203515</td>\n",
              "      <td>NaN</td>\n",
              "      <td>Pr100017</td>\n",
              "      <td>U106593</td>\n",
              "      <td>CLICK</td>\n",
              "      <td>Chrome</td>\n",
              "      <td>Windows</td>\n",
              "      <td></td>\n",
              "      <td></td>\n",
              "      <td>2017-09-10 15:48:09.451327+00:00</td>\n",
              "      <td>B</td>\n",
              "    </tr>\n",
              "    <tr>\n",
              "      <th>15</th>\n",
              "      <td>WI100000203515</td>\n",
              "      <td>2018-05-27 03:59:16.910</td>\n",
              "      <td>pr100017</td>\n",
              "      <td>U106593</td>\n",
              "      <td>click</td>\n",
              "      <td>Chrome</td>\n",
              "      <td>Windows</td>\n",
              "      <td></td>\n",
              "      <td></td>\n",
              "      <td>2017-09-10 15:48:09.451327+00:00</td>\n",
              "      <td>B</td>\n",
              "    </tr>\n",
              "    <tr>\n",
              "      <th>16</th>\n",
              "      <td>WI100000112772</td>\n",
              "      <td>2018-05-15 06:58:24.183</td>\n",
              "      <td>Pr100145</td>\n",
              "      <td>U106593</td>\n",
              "      <td>pageload</td>\n",
              "      <td>Chrome Mobile</td>\n",
              "      <td>Android</td>\n",
              "      <td></td>\n",
              "      <td></td>\n",
              "      <td>2017-09-10 15:48:09.451327+00:00</td>\n",
              "      <td>B</td>\n",
              "    </tr>\n",
              "    <tr>\n",
              "      <th>17</th>\n",
              "      <td>WI100000112772</td>\n",
              "      <td>2018-05-15 06:47:03.809</td>\n",
              "      <td>Pr100219</td>\n",
              "      <td>U106593</td>\n",
              "      <td>pageload</td>\n",
              "      <td>Chrome Mobile</td>\n",
              "      <td>Android</td>\n",
              "      <td></td>\n",
              "      <td></td>\n",
              "      <td>2017-09-10 15:48:09.451327+00:00</td>\n",
              "      <td>B</td>\n",
              "    </tr>\n",
              "    <tr>\n",
              "      <th>18</th>\n",
              "      <td>WI100000203515</td>\n",
              "      <td>2018-05-18 14:05:11.409</td>\n",
              "      <td>Pr100166</td>\n",
              "      <td>U106593</td>\n",
              "      <td>pageload</td>\n",
              "      <td>Chrome</td>\n",
              "      <td>Windows</td>\n",
              "      <td></td>\n",
              "      <td></td>\n",
              "      <td>2017-09-10 15:48:09.451327+00:00</td>\n",
              "      <td>B</td>\n",
              "    </tr>\n",
              "    <tr>\n",
              "      <th>19</th>\n",
              "      <td>WI100000203515</td>\n",
              "      <td>1527395915457000000</td>\n",
              "      <td>Pr103384</td>\n",
              "      <td>U106593</td>\n",
              "      <td>pageload</td>\n",
              "      <td>Chrome</td>\n",
              "      <td>Windows</td>\n",
              "      <td></td>\n",
              "      <td></td>\n",
              "      <td>2017-09-10 15:48:09.451327+00:00</td>\n",
              "      <td>B</td>\n",
              "    </tr>\n",
              "  </tbody>\n",
              "</table>\n",
              "</div>"
            ],
            "text/plain": [
              "       webClientID  ... User Segment\n",
              "0   WI100000112772  ...            B\n",
              "1   WI100000112772  ...            B\n",
              "2   WI100000112772  ...            B\n",
              "3   WI100000112772  ...            B\n",
              "4   WI100000112772  ...            B\n",
              "5   WI100000112772  ...            B\n",
              "6   WI100000112772  ...            B\n",
              "7   WI100000112772  ...            B\n",
              "8   WI100000203515  ...            B\n",
              "9   WI100000112772  ...            B\n",
              "10  WI100000112772  ...            B\n",
              "11  WI100000203515  ...            B\n",
              "12  WI100000112772  ...            B\n",
              "13  WI100000112772  ...            B\n",
              "14  WI100000203515  ...            B\n",
              "15  WI100000203515  ...            B\n",
              "16  WI100000112772  ...            B\n",
              "17  WI100000112772  ...            B\n",
              "18  WI100000203515  ...            B\n",
              "19  WI100000203515  ...            B\n",
              "\n",
              "[20 rows x 11 columns]"
            ]
          },
          "metadata": {
            "tags": []
          },
          "execution_count": 11
        }
      ]
    },
    {
      "cell_type": "code",
      "metadata": {
        "colab": {
          "base_uri": "https://localhost:8080/",
          "height": 182
        },
        "id": "GWFohHI3fIR7",
        "outputId": "3f01e00b-2801-4f07-d5b8-cebfc6280f58"
      },
      "source": [
        "# lets explore the data\n",
        "print(fin_data.shape)\n",
        "fin_data.describe()"
      ],
      "execution_count": null,
      "outputs": [
        {
          "output_type": "stream",
          "text": [
            "(650695, 11)\n"
          ],
          "name": "stdout"
        },
        {
          "output_type": "execute_result",
          "data": {
            "text/html": [
              "<div>\n",
              "<style scoped>\n",
              "    .dataframe tbody tr th:only-of-type {\n",
              "        vertical-align: middle;\n",
              "    }\n",
              "\n",
              "    .dataframe tbody tr th {\n",
              "        vertical-align: top;\n",
              "    }\n",
              "\n",
              "    .dataframe thead th {\n",
              "        text-align: right;\n",
              "    }\n",
              "</style>\n",
              "<table border=\"1\" class=\"dataframe\">\n",
              "  <thead>\n",
              "    <tr style=\"text-align: right;\">\n",
              "      <th></th>\n",
              "      <th>webClientID</th>\n",
              "      <th>VisitDateTime</th>\n",
              "      <th>ProductID</th>\n",
              "      <th>UserID</th>\n",
              "      <th>Activity</th>\n",
              "      <th>Browser</th>\n",
              "      <th>OS</th>\n",
              "      <th>City</th>\n",
              "      <th>Country</th>\n",
              "      <th>Signup Date</th>\n",
              "      <th>User Segment</th>\n",
              "    </tr>\n",
              "  </thead>\n",
              "  <tbody>\n",
              "    <tr>\n",
              "      <th>count</th>\n",
              "      <td>650695</td>\n",
              "      <td>585892</td>\n",
              "      <td>598732</td>\n",
              "      <td>650695</td>\n",
              "      <td>562938</td>\n",
              "      <td>650695</td>\n",
              "      <td>650695</td>\n",
              "      <td>414571</td>\n",
              "      <td>607868</td>\n",
              "      <td>650695</td>\n",
              "      <td>650695</td>\n",
              "    </tr>\n",
              "    <tr>\n",
              "      <th>unique</th>\n",
              "      <td>36791</td>\n",
              "      <td>542183</td>\n",
              "      <td>7673</td>\n",
              "      <td>34050</td>\n",
              "      <td>4</td>\n",
              "      <td>23</td>\n",
              "      <td>18</td>\n",
              "      <td>3613</td>\n",
              "      <td>2585</td>\n",
              "      <td>34038</td>\n",
              "      <td>3</td>\n",
              "    </tr>\n",
              "    <tr>\n",
              "      <th>top</th>\n",
              "      <td>WI10000057</td>\n",
              "      <td>2018-05-27 14:05:13.322</td>\n",
              "      <td>Pr101042</td>\n",
              "      <td>U100347</td>\n",
              "      <td>click</td>\n",
              "      <td>Chrome</td>\n",
              "      <td>Windows</td>\n",
              "      <td>Mumbai</td>\n",
              "      <td>India</td>\n",
              "      <td>2017-06-22 08:35:27.852396+00:00</td>\n",
              "      <td>B</td>\n",
              "    </tr>\n",
              "    <tr>\n",
              "      <th>freq</th>\n",
              "      <td>8877</td>\n",
              "      <td>4</td>\n",
              "      <td>53225</td>\n",
              "      <td>14671</td>\n",
              "      <td>316230</td>\n",
              "      <td>498641</td>\n",
              "      <td>431129</td>\n",
              "      <td>41180</td>\n",
              "      <td>401385</td>\n",
              "      <td>14671</td>\n",
              "      <td>321089</td>\n",
              "    </tr>\n",
              "  </tbody>\n",
              "</table>\n",
              "</div>"
            ],
            "text/plain": [
              "       webClientID  ... User Segment\n",
              "count       650695  ...       650695\n",
              "unique       36791  ...            3\n",
              "top     WI10000057  ...            B\n",
              "freq          8877  ...       321089\n",
              "\n",
              "[4 rows x 11 columns]"
            ]
          },
          "metadata": {
            "tags": []
          },
          "execution_count": 12
        }
      ]
    },
    {
      "cell_type": "code",
      "metadata": {
        "colab": {
          "base_uri": "https://localhost:8080/"
        },
        "id": "jpP2Ugrnfflv",
        "outputId": "6a98a93b-8fcc-4288-f015-cd6993d02dca"
      },
      "source": [
        "fin_data.isnull().sum()\n",
        "# There are large amount of missing values in our dataset"
      ],
      "execution_count": null,
      "outputs": [
        {
          "output_type": "execute_result",
          "data": {
            "text/plain": [
              "webClientID           0\n",
              "VisitDateTime     64803\n",
              "ProductID         51963\n",
              "UserID                0\n",
              "Activity          87757\n",
              "Browser               0\n",
              "OS                    0\n",
              "City             236124\n",
              "Country           42827\n",
              "Signup Date           0\n",
              "User Segment          0\n",
              "dtype: int64"
            ]
          },
          "metadata": {
            "tags": []
          },
          "execution_count": 13
        }
      ]
    },
    {
      "cell_type": "code",
      "metadata": {
        "id": "rsOtSWnyBDny"
      },
      "source": [
        "# fill the missing visitdatetime, productid, activity using ffill\n",
        "fin_data['VisitDateTime'] = fin_data['VisitDateTime'].ffill(axis=0)\n",
        "fin_data['ProductID'] = fin_data['ProductID'].ffill(axis=0)\n",
        "fin_data['Activity'] = fin_data['Activity'].ffill(axis=0)"
      ],
      "execution_count": null,
      "outputs": []
    },
    {
      "cell_type": "code",
      "metadata": {
        "colab": {
          "base_uri": "https://localhost:8080/"
        },
        "id": "SM0BeN7EBtRX",
        "outputId": "3cbae69d-6d06-45c3-b49f-63714ba8c8a6"
      },
      "source": [
        "fin_data.isnull().sum()"
      ],
      "execution_count": null,
      "outputs": [
        {
          "output_type": "execute_result",
          "data": {
            "text/plain": [
              "webClientID           0\n",
              "VisitDateTime         0\n",
              "ProductID             0\n",
              "UserID                0\n",
              "Activity              0\n",
              "Browser               0\n",
              "OS                    0\n",
              "City             236124\n",
              "Country           42827\n",
              "Signup Date           0\n",
              "User Segment          0\n",
              "dtype: int64"
            ]
          },
          "metadata": {
            "tags": []
          },
          "execution_count": 15
        }
      ]
    },
    {
      "cell_type": "code",
      "metadata": {
        "id": "aYICeXhUu6jn"
      },
      "source": [
        "# Convert all the rows of visitdatetime into suitable date time format\n",
        "new_l=[] #list containing all the timestamps\n",
        "for i in range(fin_data.shape[0]):\n",
        "  if(fin_data.iloc[i,1][4]=='-'): # checking if string is not unix\n",
        "      new_l.append(pd.to_datetime(fin_data.iloc[i,1],unit='ns'))\n",
        "  else: # if unix then convert str to int then to datetime\n",
        "      new_l.append(pd.to_datetime(int(fin_data.iloc[i,1]),unit='ns'))\n",
        "\n"
      ],
      "execution_count": null,
      "outputs": []
    },
    {
      "cell_type": "code",
      "metadata": {
        "id": "zTGGfTCeI83b"
      },
      "source": [
        "# Add new_l to our dataframe also set date time as index\n",
        "fin_data['vis_time']=new_l\n",
        "fin_data=fin_data.set_index(fin_data['vis_time'])"
      ],
      "execution_count": null,
      "outputs": []
    },
    {
      "cell_type": "code",
      "metadata": {
        "colab": {
          "base_uri": "https://localhost:8080/",
          "height": 326
        },
        "id": "CsQPlqc-IHc5",
        "outputId": "b76958dc-c0fe-4438-b645-4fc56898456a"
      },
      "source": [
        "fin_data.head()"
      ],
      "execution_count": null,
      "outputs": [
        {
          "output_type": "execute_result",
          "data": {
            "text/html": [
              "<div>\n",
              "<style scoped>\n",
              "    .dataframe tbody tr th:only-of-type {\n",
              "        vertical-align: middle;\n",
              "    }\n",
              "\n",
              "    .dataframe tbody tr th {\n",
              "        vertical-align: top;\n",
              "    }\n",
              "\n",
              "    .dataframe thead th {\n",
              "        text-align: right;\n",
              "    }\n",
              "</style>\n",
              "<table border=\"1\" class=\"dataframe\">\n",
              "  <thead>\n",
              "    <tr style=\"text-align: right;\">\n",
              "      <th></th>\n",
              "      <th>webClientID</th>\n",
              "      <th>VisitDateTime</th>\n",
              "      <th>ProductID</th>\n",
              "      <th>UserID</th>\n",
              "      <th>Activity</th>\n",
              "      <th>Browser</th>\n",
              "      <th>OS</th>\n",
              "      <th>City</th>\n",
              "      <th>Country</th>\n",
              "      <th>Signup Date</th>\n",
              "      <th>User Segment</th>\n",
              "      <th>vis_time</th>\n",
              "    </tr>\n",
              "    <tr>\n",
              "      <th>vis_time</th>\n",
              "      <th></th>\n",
              "      <th></th>\n",
              "      <th></th>\n",
              "      <th></th>\n",
              "      <th></th>\n",
              "      <th></th>\n",
              "      <th></th>\n",
              "      <th></th>\n",
              "      <th></th>\n",
              "      <th></th>\n",
              "      <th></th>\n",
              "      <th></th>\n",
              "    </tr>\n",
              "  </thead>\n",
              "  <tbody>\n",
              "    <tr>\n",
              "      <th>2018-05-15 06:48:15.249</th>\n",
              "      <td>WI100000112772</td>\n",
              "      <td>1526366895249000000</td>\n",
              "      <td>pr100017</td>\n",
              "      <td>U106593</td>\n",
              "      <td>click</td>\n",
              "      <td>chrome mobile</td>\n",
              "      <td>android</td>\n",
              "      <td></td>\n",
              "      <td></td>\n",
              "      <td>2017-09-10 15:48:09.451327+00:00</td>\n",
              "      <td>B</td>\n",
              "      <td>2018-05-15 06:48:15.249</td>\n",
              "    </tr>\n",
              "    <tr>\n",
              "      <th>2018-05-16 06:53:23.737</th>\n",
              "      <td>WI100000112772</td>\n",
              "      <td>2018-05-16 06:53:23.737</td>\n",
              "      <td>pr100241</td>\n",
              "      <td>U106593</td>\n",
              "      <td>pageload</td>\n",
              "      <td>chrome mobile</td>\n",
              "      <td>android</td>\n",
              "      <td></td>\n",
              "      <td></td>\n",
              "      <td>2017-09-10 15:48:09.451327+00:00</td>\n",
              "      <td>B</td>\n",
              "      <td>2018-05-16 06:53:23.737</td>\n",
              "    </tr>\n",
              "    <tr>\n",
              "      <th>2018-05-15 06:47:49.239</th>\n",
              "      <td>WI100000112772</td>\n",
              "      <td>2018-05-15 06:47:49.239</td>\n",
              "      <td>pr100017</td>\n",
              "      <td>U106593</td>\n",
              "      <td>click</td>\n",
              "      <td>chrome mobile</td>\n",
              "      <td>android</td>\n",
              "      <td></td>\n",
              "      <td></td>\n",
              "      <td>2017-09-10 15:48:09.451327+00:00</td>\n",
              "      <td>B</td>\n",
              "      <td>2018-05-15 06:47:49.239</td>\n",
              "    </tr>\n",
              "    <tr>\n",
              "      <th>2018-05-16 06:54:26.424</th>\n",
              "      <td>WI100000112772</td>\n",
              "      <td>2018-05-16 06:54:26.424</td>\n",
              "      <td>pr100901</td>\n",
              "      <td>U106593</td>\n",
              "      <td>pageload</td>\n",
              "      <td>chrome mobile</td>\n",
              "      <td>android</td>\n",
              "      <td></td>\n",
              "      <td></td>\n",
              "      <td>2017-09-10 15:48:09.451327+00:00</td>\n",
              "      <td>B</td>\n",
              "      <td>2018-05-16 06:54:26.424</td>\n",
              "    </tr>\n",
              "    <tr>\n",
              "      <th>2018-05-15 06:47:36.691</th>\n",
              "      <td>WI100000112772</td>\n",
              "      <td>2018-05-15 06:47:36.691</td>\n",
              "      <td>pr100017</td>\n",
              "      <td>U106593</td>\n",
              "      <td>click</td>\n",
              "      <td>chrome mobile</td>\n",
              "      <td>android</td>\n",
              "      <td></td>\n",
              "      <td></td>\n",
              "      <td>2017-09-10 15:48:09.451327+00:00</td>\n",
              "      <td>B</td>\n",
              "      <td>2018-05-15 06:47:36.691</td>\n",
              "    </tr>\n",
              "  </tbody>\n",
              "</table>\n",
              "</div>"
            ],
            "text/plain": [
              "                            webClientID  ...                vis_time\n",
              "vis_time                                 ...                        \n",
              "2018-05-15 06:48:15.249  WI100000112772  ... 2018-05-15 06:48:15.249\n",
              "2018-05-16 06:53:23.737  WI100000112772  ... 2018-05-16 06:53:23.737\n",
              "2018-05-15 06:47:49.239  WI100000112772  ... 2018-05-15 06:47:49.239\n",
              "2018-05-16 06:54:26.424  WI100000112772  ... 2018-05-16 06:54:26.424\n",
              "2018-05-15 06:47:36.691  WI100000112772  ... 2018-05-15 06:47:36.691\n",
              "\n",
              "[5 rows x 12 columns]"
            ]
          },
          "metadata": {
            "tags": []
          },
          "execution_count": 30
        }
      ]
    },
    {
      "cell_type": "code",
      "metadata": {
        "id": "LDkvfDzH9JBd"
      },
      "source": [
        "df_fin=fin_data"
      ],
      "execution_count": null,
      "outputs": []
    },
    {
      "cell_type": "code",
      "metadata": {
        "id": "4gx83sb39CJ3"
      },
      "source": [
        "# There are some changes needs to be done in df_fin\n",
        "#product id starts with \"Pr\" or 'pr'\n",
        "df_fin['ProductID']=df_fin[\"ProductID\"].str.lower()\n",
        "# Change \"CLICK\" to 'click' and 'PAGELOAD' to 'pageload'\n",
        "df_fin['Activity']=df_fin[\"Activity\"].str.lower()\n",
        "# all the OS in lowercase\n",
        "df_fin['OS']=df_fin[\"OS\"].str.lower()\n",
        "# all the browsers in lowercase\n",
        "df_fin['Browser']=df_fin[\"Browser\"].str.lower()"
      ],
      "execution_count": null,
      "outputs": []
    },
    {
      "cell_type": "code",
      "metadata": {
        "colab": {
          "base_uri": "https://localhost:8080/",
          "height": 333
        },
        "id": "8JNf5ZQL8R3M",
        "outputId": "7f3f39e3-8ce6-42fa-c01f-5a57797c13be"
      },
      "source": [
        "#let's explore our dataset\n",
        "X=df_fin\n",
        "X.groupby('Activity')['UserID'].count().plot.bar()"
      ],
      "execution_count": null,
      "outputs": [
        {
          "output_type": "execute_result",
          "data": {
            "text/plain": [
              "<matplotlib.axes._subplots.AxesSubplot at 0x7f4f4aea1450>"
            ]
          },
          "metadata": {
            "tags": []
          },
          "execution_count": 23
        },
        {
          "output_type": "display_data",
          "data": {
            "image/png": "[encoded data removed]",
            "text/plain": [
              "<Figure size 432x288 with 1 Axes>"
            ]
          },
          "metadata": {
            "tags": [],
            "needs_background": "light"
          }
        }
      ]
    },
    {
      "cell_type": "code",
      "metadata": {
        "colab": {
          "base_uri": "https://localhost:8080/",
          "height": 859
        },
        "id": "-tNuiA9Z-bnk",
        "outputId": "36867f23-7817-42b6-b53e-23afbfa67074"
      },
      "source": [
        "X.groupby('Browser')['UserID'].count().plot.bar(color=['green','red'], figsize=(20,12))\n",
        "# Chrome was used mostly"
      ],
      "execution_count": null,
      "outputs": [
        {
          "output_type": "execute_result",
          "data": {
            "text/plain": [
              "<matplotlib.axes._subplots.AxesSubplot at 0x7f4f550294d0>"
            ]
          },
          "metadata": {
            "tags": []
          },
          "execution_count": 24
        },
        {
          "output_type": "display_data",
          "data": {
            "image/png": "[encoded data removed]",
            "text/plain": [
              "<Figure size 1440x864 with 1 Axes>"
            ]
          },
          "metadata": {
            "tags": [],
            "needs_background": "light"
          }
        }
      ]
    },
    {
      "cell_type": "code",
      "metadata": {
        "colab": {
          "base_uri": "https://localhost:8080/",
          "height": 716
        },
        "id": "-u_Lv2Ml_VlI",
        "outputId": "8379dd54-398d-4884-b912-c25da3ed02b2"
      },
      "source": [
        "X.groupby('OS')['UserID'].count().plot.pie( title=\"OS\",figsize=(20,12))\n",
        "# Windows is the most used OS"
      ],
      "execution_count": null,
      "outputs": [
        {
          "output_type": "execute_result",
          "data": {
            "text/plain": [
              "<matplotlib.axes._subplots.AxesSubplot at 0x7f4f4ad4fa50>"
            ]
          },
          "metadata": {
            "tags": []
          },
          "execution_count": 25
        },
        {
          "output_type": "display_data",
          "data": {
            "image/png": "[encoded data removed]",
            "text/plain": [
              "<Figure size 1440x864 with 1 Axes>"
            ]
          },
          "metadata": {
            "tags": []
          }
        }
      ]
    },
    {
      "cell_type": "code",
      "metadata": {
        "colab": {
          "base_uri": "https://localhost:8080/",
          "height": 716
        },
        "id": "wba2Ag3c__Bw",
        "outputId": "01d3193c-27b1-434d-840c-dd9b917392b1"
      },
      "source": [
        "X.groupby('User Segment')['UserID'].count().plot.pie( title=\"USER Segment\",figsize=(20,12)) "
      ],
      "execution_count": null,
      "outputs": [
        {
          "output_type": "execute_result",
          "data": {
            "text/plain": [
              "<matplotlib.axes._subplots.AxesSubplot at 0x7f4f4ad54ed0>"
            ]
          },
          "metadata": {
            "tags": []
          },
          "execution_count": 26
        },
        {
          "output_type": "display_data",
          "data": {
            "image/png": "[encoded data removed]",
            "text/plain": [
              "<Figure size 1440x864 with 1 Axes>"
            ]
          },
          "metadata": {
            "tags": []
          }
        }
      ]
    },
    {
      "cell_type": "code",
      "metadata": {
        "colab": {
          "base_uri": "https://localhost:8080/",
          "height": 801
        },
        "id": "tcgR01T1BosN",
        "outputId": "f7f83493-a2c4-45ac-b944-166c610052ca"
      },
      "source": [
        "X.groupby('Country')['UserID'].count().sort_values()[-10:].plot.bar(color=['red','green'], figsize=(20,12))"
      ],
      "execution_count": null,
      "outputs": [
        {
          "output_type": "execute_result",
          "data": {
            "text/plain": [
              "<matplotlib.axes._subplots.AxesSubplot at 0x7f4f4ad30fd0>"
            ]
          },
          "metadata": {
            "tags": []
          },
          "execution_count": 27
        },
        {
          "output_type": "display_data",
          "data": {
            "image/png": "[encoded data removed]",
            "text/plain": [
              "<Figure size 1440x864 with 1 Axes>"
            ]
          },
          "metadata": {
            "tags": [],
            "needs_background": "light"
          }
        }
      ]
    },
    {
      "cell_type": "code",
      "metadata": {
        "id": "CotJJm1oFwId"
      },
      "source": [
        "# drop the country and city columns as we won't be using them for further analysis\n",
        "df_fin=df_fin.drop(['Country','VisitDateTime', 'City'], axis=1)"
      ],
      "execution_count": null,
      "outputs": []
    },
    {
      "cell_type": "code",
      "metadata": {
        "colab": {
          "base_uri": "https://localhost:8080/"
        },
        "id": "warejy8tGefz",
        "outputId": "7a8368bf-a4f3-4cbc-9088-8c455fc57604"
      },
      "source": [
        "df_fin.isnull().sum()"
      ],
      "execution_count": null,
      "outputs": [
        {
          "output_type": "execute_result",
          "data": {
            "text/plain": [
              "webClientID     0\n",
              "ProductID       0\n",
              "UserID          0\n",
              "Activity        0\n",
              "Browser         0\n",
              "OS              0\n",
              "Signup Date     0\n",
              "User Segment    0\n",
              "vis_time        0\n",
              "dtype: int64"
            ]
          },
          "metadata": {
            "tags": []
          },
          "execution_count": 34
        }
      ]
    },
    {
      "cell_type": "code",
      "metadata": {
        "colab": {
          "base_uri": "https://localhost:8080/",
          "height": 225
        },
        "id": "ytkdAQf4GkIc",
        "outputId": "987e98e7-46c2-4020-97e7-6b5d7ce56c49"
      },
      "source": [
        "df_fin.head()\n",
        "# Now our data is clean and ready"
      ],
      "execution_count": null,
      "outputs": [
        {
          "output_type": "execute_result",
          "data": {
            "text/html": [
              "<div>\n",
              "<style scoped>\n",
              "    .dataframe tbody tr th:only-of-type {\n",
              "        vertical-align: middle;\n",
              "    }\n",
              "\n",
              "    .dataframe tbody tr th {\n",
              "        vertical-align: top;\n",
              "    }\n",
              "\n",
              "    .dataframe thead th {\n",
              "        text-align: right;\n",
              "    }\n",
              "</style>\n",
              "<table border=\"1\" class=\"dataframe\">\n",
              "  <thead>\n",
              "    <tr style=\"text-align: right;\">\n",
              "      <th></th>\n",
              "      <th>webClientID</th>\n",
              "      <th>ProductID</th>\n",
              "      <th>UserID</th>\n",
              "      <th>Activity</th>\n",
              "      <th>Browser</th>\n",
              "      <th>OS</th>\n",
              "      <th>Signup Date</th>\n",
              "      <th>User Segment</th>\n",
              "      <th>vis_time</th>\n",
              "    </tr>\n",
              "    <tr>\n",
              "      <th>vis_time</th>\n",
              "      <th></th>\n",
              "      <th></th>\n",
              "      <th></th>\n",
              "      <th></th>\n",
              "      <th></th>\n",
              "      <th></th>\n",
              "      <th></th>\n",
              "      <th></th>\n",
              "      <th></th>\n",
              "    </tr>\n",
              "  </thead>\n",
              "  <tbody>\n",
              "    <tr>\n",
              "      <th>2018-05-15 06:48:15.249</th>\n",
              "      <td>WI100000112772</td>\n",
              "      <td>pr100017</td>\n",
              "      <td>U106593</td>\n",
              "      <td>click</td>\n",
              "      <td>chrome mobile</td>\n",
              "      <td>android</td>\n",
              "      <td>2017-09-10 15:48:09.451327+00:00</td>\n",
              "      <td>B</td>\n",
              "      <td>2018-05-15 06:48:15.249</td>\n",
              "    </tr>\n",
              "    <tr>\n",
              "      <th>2018-05-16 06:53:23.737</th>\n",
              "      <td>WI100000112772</td>\n",
              "      <td>pr100241</td>\n",
              "      <td>U106593</td>\n",
              "      <td>pageload</td>\n",
              "      <td>chrome mobile</td>\n",
              "      <td>android</td>\n",
              "      <td>2017-09-10 15:48:09.451327+00:00</td>\n",
              "      <td>B</td>\n",
              "      <td>2018-05-16 06:53:23.737</td>\n",
              "    </tr>\n",
              "    <tr>\n",
              "      <th>2018-05-15 06:47:49.239</th>\n",
              "      <td>WI100000112772</td>\n",
              "      <td>pr100017</td>\n",
              "      <td>U106593</td>\n",
              "      <td>click</td>\n",
              "      <td>chrome mobile</td>\n",
              "      <td>android</td>\n",
              "      <td>2017-09-10 15:48:09.451327+00:00</td>\n",
              "      <td>B</td>\n",
              "      <td>2018-05-15 06:47:49.239</td>\n",
              "    </tr>\n",
              "    <tr>\n",
              "      <th>2018-05-16 06:54:26.424</th>\n",
              "      <td>WI100000112772</td>\n",
              "      <td>pr100901</td>\n",
              "      <td>U106593</td>\n",
              "      <td>pageload</td>\n",
              "      <td>chrome mobile</td>\n",
              "      <td>android</td>\n",
              "      <td>2017-09-10 15:48:09.451327+00:00</td>\n",
              "      <td>B</td>\n",
              "      <td>2018-05-16 06:54:26.424</td>\n",
              "    </tr>\n",
              "    <tr>\n",
              "      <th>2018-05-15 06:47:36.691</th>\n",
              "      <td>WI100000112772</td>\n",
              "      <td>pr100017</td>\n",
              "      <td>U106593</td>\n",
              "      <td>click</td>\n",
              "      <td>chrome mobile</td>\n",
              "      <td>android</td>\n",
              "      <td>2017-09-10 15:48:09.451327+00:00</td>\n",
              "      <td>B</td>\n",
              "      <td>2018-05-15 06:47:36.691</td>\n",
              "    </tr>\n",
              "  </tbody>\n",
              "</table>\n",
              "</div>"
            ],
            "text/plain": [
              "                            webClientID  ...                vis_time\n",
              "vis_time                                 ...                        \n",
              "2018-05-15 06:48:15.249  WI100000112772  ... 2018-05-15 06:48:15.249\n",
              "2018-05-16 06:53:23.737  WI100000112772  ... 2018-05-16 06:53:23.737\n",
              "2018-05-15 06:47:49.239  WI100000112772  ... 2018-05-15 06:47:49.239\n",
              "2018-05-16 06:54:26.424  WI100000112772  ... 2018-05-16 06:54:26.424\n",
              "2018-05-15 06:47:36.691  WI100000112772  ... 2018-05-15 06:47:36.691\n",
              "\n",
              "[5 rows x 9 columns]"
            ]
          },
          "metadata": {
            "tags": []
          },
          "execution_count": 36
        }
      ]
    },
    {
      "cell_type": "code",
      "metadata": {
        "colab": {
          "base_uri": "https://localhost:8080/"
        },
        "id": "HLxpc6SrG8Iq",
        "outputId": "0728da5a-2378-430a-facd-f7b78973ae24"
      },
      "source": [
        "#How many days a user was active on platform in the last 7 days\n",
        "max(df_fin['vis_time']) # maximum datetime"
      ],
      "execution_count": null,
      "outputs": [
        {
          "output_type": "execute_result",
          "data": {
            "text/plain": [
              "Timestamp('2018-05-27 23:59:23.729000')"
            ]
          },
          "metadata": {
            "tags": []
          },
          "execution_count": 37
        }
      ]
    },
    {
      "cell_type": "code",
      "metadata": {
        "id": "Y0dwQ8YnLSB4"
      },
      "source": [
        "#Since the last day is 27 may 2018\n",
        "last_date=pd.Timestamp(2018, 5, 28, 0,0,0)"
      ],
      "execution_count": null,
      "outputs": []
    },
    {
      "cell_type": "code",
      "metadata": {
        "colab": {
          "base_uri": "https://localhost:8080/"
        },
        "id": "yQu-pQEuVHz2",
        "outputId": "05cc6fcf-dde6-4937-de27-c6525fdb5aa1"
      },
      "source": [
        "last_date"
      ],
      "execution_count": null,
      "outputs": [
        {
          "output_type": "execute_result",
          "data": {
            "text/plain": [
              "Timestamp('2018-05-28 00:00:00')"
            ]
          },
          "metadata": {
            "tags": []
          },
          "execution_count": 35
        }
      ]
    },
    {
      "cell_type": "code",
      "metadata": {
        "id": "HMiGDi6jMQqj"
      },
      "source": [
        "a=pd.Timedelta(days=7) # getting time delta of past 7 days\n",
        "wkday=last_date-a # getting date of 7 days before today"
      ],
      "execution_count": null,
      "outputs": []
    },
    {
      "cell_type": "code",
      "metadata": {
        "colab": {
          "base_uri": "https://localhost:8080/"
        },
        "id": "_33BBCv6MY6k",
        "outputId": "5412d158-c8d3-424c-d1c7-240d7975b78c"
      },
      "source": [
        "wkday"
      ],
      "execution_count": null,
      "outputs": [
        {
          "output_type": "execute_result",
          "data": {
            "text/plain": [
              "Timestamp('2018-05-21 00:00:00')"
            ]
          },
          "metadata": {
            "tags": []
          },
          "execution_count": 103
        }
      ]
    },
    {
      "cell_type": "code",
      "metadata": {
        "id": "iqLEigYRMyms"
      },
      "source": [
        "X=df_fin\n",
        "X['day']=X['vis_time'].dt.day # getting the day from datetime"
      ],
      "execution_count": null,
      "outputs": []
    },
    {
      "cell_type": "code",
      "metadata": {
        "colab": {
          "base_uri": "https://localhost:8080/",
          "height": 225
        },
        "id": "_e9ozXrWWXhr",
        "outputId": "dda60285-f208-4fbb-c741-1acedc3b67c5"
      },
      "source": [
        "X.head()"
      ],
      "execution_count": null,
      "outputs": [
        {
          "output_type": "execute_result",
          "data": {
            "text/html": [
              "<div>\n",
              "<style scoped>\n",
              "    .dataframe tbody tr th:only-of-type {\n",
              "        vertical-align: middle;\n",
              "    }\n",
              "\n",
              "    .dataframe tbody tr th {\n",
              "        vertical-align: top;\n",
              "    }\n",
              "\n",
              "    .dataframe thead th {\n",
              "        text-align: right;\n",
              "    }\n",
              "</style>\n",
              "<table border=\"1\" class=\"dataframe\">\n",
              "  <thead>\n",
              "    <tr style=\"text-align: right;\">\n",
              "      <th></th>\n",
              "      <th>webClientID</th>\n",
              "      <th>ProductID</th>\n",
              "      <th>UserID</th>\n",
              "      <th>Activity</th>\n",
              "      <th>Browser</th>\n",
              "      <th>OS</th>\n",
              "      <th>Signup Date</th>\n",
              "      <th>User Segment</th>\n",
              "      <th>vis_time</th>\n",
              "      <th>day</th>\n",
              "    </tr>\n",
              "    <tr>\n",
              "      <th>vis_time</th>\n",
              "      <th></th>\n",
              "      <th></th>\n",
              "      <th></th>\n",
              "      <th></th>\n",
              "      <th></th>\n",
              "      <th></th>\n",
              "      <th></th>\n",
              "      <th></th>\n",
              "      <th></th>\n",
              "      <th></th>\n",
              "    </tr>\n",
              "  </thead>\n",
              "  <tbody>\n",
              "    <tr>\n",
              "      <th>2018-05-15 06:48:15.249</th>\n",
              "      <td>WI100000112772</td>\n",
              "      <td>pr100017</td>\n",
              "      <td>U106593</td>\n",
              "      <td>click</td>\n",
              "      <td>chrome mobile</td>\n",
              "      <td>android</td>\n",
              "      <td>2017-09-10 15:48:09.451327+00:00</td>\n",
              "      <td>B</td>\n",
              "      <td>2018-05-15 06:48:15.249</td>\n",
              "      <td>15</td>\n",
              "    </tr>\n",
              "    <tr>\n",
              "      <th>2018-05-16 06:53:23.737</th>\n",
              "      <td>WI100000112772</td>\n",
              "      <td>pr100241</td>\n",
              "      <td>U106593</td>\n",
              "      <td>pageload</td>\n",
              "      <td>chrome mobile</td>\n",
              "      <td>android</td>\n",
              "      <td>2017-09-10 15:48:09.451327+00:00</td>\n",
              "      <td>B</td>\n",
              "      <td>2018-05-16 06:53:23.737</td>\n",
              "      <td>16</td>\n",
              "    </tr>\n",
              "    <tr>\n",
              "      <th>2018-05-15 06:47:49.239</th>\n",
              "      <td>WI100000112772</td>\n",
              "      <td>pr100017</td>\n",
              "      <td>U106593</td>\n",
              "      <td>click</td>\n",
              "      <td>chrome mobile</td>\n",
              "      <td>android</td>\n",
              "      <td>2017-09-10 15:48:09.451327+00:00</td>\n",
              "      <td>B</td>\n",
              "      <td>2018-05-15 06:47:49.239</td>\n",
              "      <td>15</td>\n",
              "    </tr>\n",
              "    <tr>\n",
              "      <th>2018-05-16 06:54:26.424</th>\n",
              "      <td>WI100000112772</td>\n",
              "      <td>pr100901</td>\n",
              "      <td>U106593</td>\n",
              "      <td>pageload</td>\n",
              "      <td>chrome mobile</td>\n",
              "      <td>android</td>\n",
              "      <td>2017-09-10 15:48:09.451327+00:00</td>\n",
              "      <td>B</td>\n",
              "      <td>2018-05-16 06:54:26.424</td>\n",
              "      <td>16</td>\n",
              "    </tr>\n",
              "    <tr>\n",
              "      <th>2018-05-15 06:47:36.691</th>\n",
              "      <td>WI100000112772</td>\n",
              "      <td>pr100017</td>\n",
              "      <td>U106593</td>\n",
              "      <td>click</td>\n",
              "      <td>chrome mobile</td>\n",
              "      <td>android</td>\n",
              "      <td>2017-09-10 15:48:09.451327+00:00</td>\n",
              "      <td>B</td>\n",
              "      <td>2018-05-15 06:47:36.691</td>\n",
              "      <td>15</td>\n",
              "    </tr>\n",
              "  </tbody>\n",
              "</table>\n",
              "</div>"
            ],
            "text/plain": [
              "                            webClientID ProductID  ...                vis_time day\n",
              "vis_time                                           ...                            \n",
              "2018-05-15 06:48:15.249  WI100000112772  pr100017  ... 2018-05-15 06:48:15.249  15\n",
              "2018-05-16 06:53:23.737  WI100000112772  pr100241  ... 2018-05-16 06:53:23.737  16\n",
              "2018-05-15 06:47:49.239  WI100000112772  pr100017  ... 2018-05-15 06:47:49.239  15\n",
              "2018-05-16 06:54:26.424  WI100000112772  pr100901  ... 2018-05-16 06:54:26.424  16\n",
              "2018-05-15 06:47:36.691  WI100000112772  pr100017  ... 2018-05-15 06:47:36.691  15\n",
              "\n",
              "[5 rows x 10 columns]"
            ]
          },
          "metadata": {
            "tags": []
          },
          "execution_count": 41
        }
      ]
    },
    {
      "cell_type": "code",
      "metadata": {
        "id": "ZNk2YOh2RRRc"
      },
      "source": [
        "# Select values only last 7 days older \n",
        "# count how many times a user visited the same day\n",
        "X_7=X[(X['vis_time']>wkday) & (X['vis_time']<last_date) & (X['Activity']!='no activity')].groupby(['UserID','day'])['ProductID'].count().reset_index()\n",
        "# count the number of unique days user visited\n",
        "X_q1=X_7.groupby('UserID')['day'].count().reset_index()"
      ],
      "execution_count": null,
      "outputs": []
    },
    {
      "cell_type": "code",
      "metadata": {
        "colab": {
          "base_uri": "https://localhost:8080/",
          "height": 402
        },
        "id": "XYbzv7bPZBYw",
        "outputId": "f76fdd46-54ce-44c1-98a3-a3849b40c144"
      },
      "source": [
        "X_q1=X_q1.rename(columns={'day':'No_of_days_Visited_7_Days'}) # required dataframe for no. of visits in last 7 days\n",
        "X_q1"
      ],
      "execution_count": null,
      "outputs": [
        {
          "output_type": "execute_result",
          "data": {
            "text/html": [
              "<div>\n",
              "<style scoped>\n",
              "    .dataframe tbody tr th:only-of-type {\n",
              "        vertical-align: middle;\n",
              "    }\n",
              "\n",
              "    .dataframe tbody tr th {\n",
              "        vertical-align: top;\n",
              "    }\n",
              "\n",
              "    .dataframe thead th {\n",
              "        text-align: right;\n",
              "    }\n",
              "</style>\n",
              "<table border=\"1\" class=\"dataframe\">\n",
              "  <thead>\n",
              "    <tr style=\"text-align: right;\">\n",
              "      <th></th>\n",
              "      <th>UserID</th>\n",
              "      <th>No_of_days_Visited_7_Days</th>\n",
              "    </tr>\n",
              "  </thead>\n",
              "  <tbody>\n",
              "    <tr>\n",
              "      <th>0</th>\n",
              "      <td>U100003</td>\n",
              "      <td>1</td>\n",
              "    </tr>\n",
              "    <tr>\n",
              "      <th>1</th>\n",
              "      <td>U100004</td>\n",
              "      <td>1</td>\n",
              "    </tr>\n",
              "    <tr>\n",
              "      <th>2</th>\n",
              "      <td>U100005</td>\n",
              "      <td>1</td>\n",
              "    </tr>\n",
              "    <tr>\n",
              "      <th>3</th>\n",
              "      <td>U100006</td>\n",
              "      <td>1</td>\n",
              "    </tr>\n",
              "    <tr>\n",
              "      <th>4</th>\n",
              "      <td>U100008</td>\n",
              "      <td>6</td>\n",
              "    </tr>\n",
              "    <tr>\n",
              "      <th>...</th>\n",
              "      <td>...</td>\n",
              "      <td>...</td>\n",
              "    </tr>\n",
              "    <tr>\n",
              "      <th>16865</th>\n",
              "      <td>U136749</td>\n",
              "      <td>1</td>\n",
              "    </tr>\n",
              "    <tr>\n",
              "      <th>16866</th>\n",
              "      <td>U136830</td>\n",
              "      <td>1</td>\n",
              "    </tr>\n",
              "    <tr>\n",
              "      <th>16867</th>\n",
              "      <td>U136933</td>\n",
              "      <td>1</td>\n",
              "    </tr>\n",
              "    <tr>\n",
              "      <th>16868</th>\n",
              "      <td>U136936</td>\n",
              "      <td>1</td>\n",
              "    </tr>\n",
              "    <tr>\n",
              "      <th>16869</th>\n",
              "      <td>U136963</td>\n",
              "      <td>1</td>\n",
              "    </tr>\n",
              "  </tbody>\n",
              "</table>\n",
              "<p>16870 rows × 2 columns</p>\n",
              "</div>"
            ],
            "text/plain": [
              "        UserID  No_of_days_Visited_7_Days\n",
              "0      U100003                          1\n",
              "1      U100004                          1\n",
              "2      U100005                          1\n",
              "3      U100006                          1\n",
              "4      U100008                          6\n",
              "...        ...                        ...\n",
              "16865  U136749                          1\n",
              "16866  U136830                          1\n",
              "16867  U136933                          1\n",
              "16868  U136936                          1\n",
              "16869  U136963                          1\n",
              "\n",
              "[16870 rows x 2 columns]"
            ]
          },
          "metadata": {
            "tags": []
          },
          "execution_count": 45
        }
      ]
    },
    {
      "cell_type": "code",
      "metadata": {
        "id": "tuwJQy0XZRDo"
      },
      "source": [
        "#Number of Products viewed by the user in the last 15 days\n",
        "b=pd.Timedelta(days=15) # getting time delta of past 15 days\n",
        "day15=last_date-b # getting date of 15 days before today"
      ],
      "execution_count": null,
      "outputs": []
    },
    {
      "cell_type": "code",
      "metadata": {
        "colab": {
          "base_uri": "https://localhost:8080/"
        },
        "id": "vpGAh6K4Z187",
        "outputId": "4d09af45-05e8-4946-b91b-b3aab05fa0f1"
      },
      "source": [
        "day15"
      ],
      "execution_count": null,
      "outputs": [
        {
          "output_type": "execute_result",
          "data": {
            "text/plain": [
              "Timestamp('2018-05-13 00:00:00')"
            ]
          },
          "metadata": {
            "tags": []
          },
          "execution_count": 43
        }
      ]
    },
    {
      "cell_type": "code",
      "metadata": {
        "id": "aQQByYvp6P2V"
      },
      "source": [
        "X['vis_time']=pd.to_datetime(X['vis_time'])"
      ],
      "execution_count": null,
      "outputs": []
    },
    {
      "cell_type": "code",
      "metadata": {
        "id": "Qqj9_vneaCjQ"
      },
      "source": [
        "# Select values only last 15 days older \n",
        "# Count the number of times user viewed a particular product\n",
        "X_15=X[(X['vis_time']>day15) & (X['vis_time']<last_date)].groupby(['UserID', 'ProductID'])['Activity'].count().reset_index()\n",
        "# COunt the unique number of products viewed by the user\n",
        "X_q2=X_15.groupby('UserID')['Activity'].count().reset_index()"
      ],
      "execution_count": null,
      "outputs": []
    },
    {
      "cell_type": "code",
      "metadata": {
        "id": "H_d31L8tc00f",
        "colab": {
          "base_uri": "https://localhost:8080/",
          "height": 402
        },
        "outputId": "d295b6c9-3a2c-47be-e32a-1ef988ab2879"
      },
      "source": [
        "X_q2=X_q2.rename(columns={'Activity':'No_Of_Products_Viewed_15_Days'})\n",
        "X_q2 # number of products viewed"
      ],
      "execution_count": null,
      "outputs": [
        {
          "output_type": "execute_result",
          "data": {
            "text/html": [
              "<div>\n",
              "<style scoped>\n",
              "    .dataframe tbody tr th:only-of-type {\n",
              "        vertical-align: middle;\n",
              "    }\n",
              "\n",
              "    .dataframe tbody tr th {\n",
              "        vertical-align: top;\n",
              "    }\n",
              "\n",
              "    .dataframe thead th {\n",
              "        text-align: right;\n",
              "    }\n",
              "</style>\n",
              "<table border=\"1\" class=\"dataframe\">\n",
              "  <thead>\n",
              "    <tr style=\"text-align: right;\">\n",
              "      <th></th>\n",
              "      <th>UserID</th>\n",
              "      <th>No_Of_Products_Viewed_15_Days</th>\n",
              "    </tr>\n",
              "  </thead>\n",
              "  <tbody>\n",
              "    <tr>\n",
              "      <th>0</th>\n",
              "      <td>U100002</td>\n",
              "      <td>2</td>\n",
              "    </tr>\n",
              "    <tr>\n",
              "      <th>1</th>\n",
              "      <td>U100003</td>\n",
              "      <td>3</td>\n",
              "    </tr>\n",
              "    <tr>\n",
              "      <th>2</th>\n",
              "      <td>U100004</td>\n",
              "      <td>15</td>\n",
              "    </tr>\n",
              "    <tr>\n",
              "      <th>3</th>\n",
              "      <td>U100005</td>\n",
              "      <td>3</td>\n",
              "    </tr>\n",
              "    <tr>\n",
              "      <th>4</th>\n",
              "      <td>U100006</td>\n",
              "      <td>1</td>\n",
              "    </tr>\n",
              "    <tr>\n",
              "      <th>...</th>\n",
              "      <td>...</td>\n",
              "      <td>...</td>\n",
              "    </tr>\n",
              "    <tr>\n",
              "      <th>26731</th>\n",
              "      <td>U136849</td>\n",
              "      <td>1</td>\n",
              "    </tr>\n",
              "    <tr>\n",
              "      <th>26732</th>\n",
              "      <td>U136933</td>\n",
              "      <td>1</td>\n",
              "    </tr>\n",
              "    <tr>\n",
              "      <th>26733</th>\n",
              "      <td>U136936</td>\n",
              "      <td>1</td>\n",
              "    </tr>\n",
              "    <tr>\n",
              "      <th>26734</th>\n",
              "      <td>U136956</td>\n",
              "      <td>1</td>\n",
              "    </tr>\n",
              "    <tr>\n",
              "      <th>26735</th>\n",
              "      <td>U136963</td>\n",
              "      <td>1</td>\n",
              "    </tr>\n",
              "  </tbody>\n",
              "</table>\n",
              "<p>26736 rows × 2 columns</p>\n",
              "</div>"
            ],
            "text/plain": [
              "        UserID  No_Of_Products_Viewed_15_Days\n",
              "0      U100002                              2\n",
              "1      U100003                              3\n",
              "2      U100004                             15\n",
              "3      U100005                              3\n",
              "4      U100006                              1\n",
              "...        ...                            ...\n",
              "26731  U136849                              1\n",
              "26732  U136933                              1\n",
              "26733  U136936                              1\n",
              "26734  U136956                              1\n",
              "26735  U136963                              1\n",
              "\n",
              "[26736 rows x 2 columns]"
            ]
          },
          "metadata": {
            "tags": []
          },
          "execution_count": 48
        }
      ]
    },
    {
      "cell_type": "code",
      "metadata": {
        "id": "CkhMvDb0EDaf"
      },
      "source": [
        "# Vintage user\n",
        "X_vin=user_data.drop('User Segment', axis=1) # drop user segment from user_data"
      ],
      "execution_count": null,
      "outputs": []
    },
    {
      "cell_type": "code",
      "metadata": {
        "id": "xyXZ1FKHnvoo"
      },
      "source": [
        "X_vin['Signup Date']=pd.to_datetime(X_vin['Signup Date']) # Change to datetime format\n",
        "X_vin['Signup Date']=X_vin['Signup Date'].dt.tz_localize(None) #remove the timezone\n",
        "X_vin['user_vintage']=last_date-X_vin['Signup Date'] #find age of each user\n",
        "X_vin['user_vintage']=X_vin['user_vintage'].dt.days #find age in days"
      ],
      "execution_count": null,
      "outputs": []
    },
    {
      "cell_type": "code",
      "metadata": {
        "id": "R0OKlN_dsDlA"
      },
      "source": [
        "X_q3=X_vin.copy()"
      ],
      "execution_count": null,
      "outputs": []
    },
    {
      "cell_type": "code",
      "metadata": {
        "colab": {
          "base_uri": "https://localhost:8080/",
          "height": 402
        },
        "id": "spZ-r3-FsU8p",
        "outputId": "2f5425e3-a51b-4b47-fa2f-68eec9ea1ef0"
      },
      "source": [
        "X_q3.drop('Signup Date',axis=1, inplace=True)\n",
        "X_q3=X_q3.rename(columns={'user_vintage':'User_Vintage'})\n",
        "X_q3"
      ],
      "execution_count": null,
      "outputs": [
        {
          "output_type": "execute_result",
          "data": {
            "text/html": [
              "<div>\n",
              "<style scoped>\n",
              "    .dataframe tbody tr th:only-of-type {\n",
              "        vertical-align: middle;\n",
              "    }\n",
              "\n",
              "    .dataframe tbody tr th {\n",
              "        vertical-align: top;\n",
              "    }\n",
              "\n",
              "    .dataframe thead th {\n",
              "        text-align: right;\n",
              "    }\n",
              "</style>\n",
              "<table border=\"1\" class=\"dataframe\">\n",
              "  <thead>\n",
              "    <tr style=\"text-align: right;\">\n",
              "      <th></th>\n",
              "      <th>UserID</th>\n",
              "      <th>User_Vintage</th>\n",
              "    </tr>\n",
              "  </thead>\n",
              "  <tbody>\n",
              "    <tr>\n",
              "      <th>0</th>\n",
              "      <td>U133159</td>\n",
              "      <td>43</td>\n",
              "    </tr>\n",
              "    <tr>\n",
              "      <th>1</th>\n",
              "      <td>U129368</td>\n",
              "      <td>176</td>\n",
              "    </tr>\n",
              "    <tr>\n",
              "      <th>2</th>\n",
              "      <td>U109654</td>\n",
              "      <td>1895</td>\n",
              "    </tr>\n",
              "    <tr>\n",
              "      <th>3</th>\n",
              "      <td>U108998</td>\n",
              "      <td>129</td>\n",
              "    </tr>\n",
              "    <tr>\n",
              "      <th>4</th>\n",
              "      <td>U131393</td>\n",
              "      <td>61</td>\n",
              "    </tr>\n",
              "    <tr>\n",
              "      <th>...</th>\n",
              "      <td>...</td>\n",
              "      <td>...</td>\n",
              "    </tr>\n",
              "    <tr>\n",
              "      <th>34045</th>\n",
              "      <td>U134073</td>\n",
              "      <td>69</td>\n",
              "    </tr>\n",
              "    <tr>\n",
              "      <th>34046</th>\n",
              "      <td>U113667</td>\n",
              "      <td>88</td>\n",
              "    </tr>\n",
              "    <tr>\n",
              "      <th>34047</th>\n",
              "      <td>U128470</td>\n",
              "      <td>84</td>\n",
              "    </tr>\n",
              "    <tr>\n",
              "      <th>34048</th>\n",
              "      <td>U104005</td>\n",
              "      <td>125</td>\n",
              "    </tr>\n",
              "    <tr>\n",
              "      <th>34049</th>\n",
              "      <td>U125524</td>\n",
              "      <td>166</td>\n",
              "    </tr>\n",
              "  </tbody>\n",
              "</table>\n",
              "<p>34050 rows × 2 columns</p>\n",
              "</div>"
            ],
            "text/plain": [
              "        UserID  User_Vintage\n",
              "0      U133159            43\n",
              "1      U129368           176\n",
              "2      U109654          1895\n",
              "3      U108998           129\n",
              "4      U131393            61\n",
              "...        ...           ...\n",
              "34045  U134073            69\n",
              "34046  U113667            88\n",
              "34047  U128470            84\n",
              "34048  U104005           125\n",
              "34049  U125524           166\n",
              "\n",
              "[34050 rows x 2 columns]"
            ]
          },
          "metadata": {
            "tags": []
          },
          "execution_count": 52
        }
      ]
    },
    {
      "cell_type": "code",
      "metadata": {
        "colab": {
          "base_uri": "https://localhost:8080/"
        },
        "id": "pzLruY3YysfJ",
        "outputId": "99556a12-6433-4f72-e42c-b4b8bbb116e8"
      },
      "source": [
        "# Most frequently viewed (page loads) product by the user in the last 15 days\n",
        "# Consider values only 15 days older and activity should be pageload\n",
        "# Find the number of times a product was viewed and most recent time it was viewed\n",
        "X_15=X[(X['vis_time']>day15) & (X['vis_time']<last_date)  & (X['Activity']=='pageload')].groupby(['UserID', 'ProductID'])['day','vis_time'].agg({'day':'count','vis_time':'max'}).reset_index()\n"
      ],
      "execution_count": null,
      "outputs": [
        {
          "output_type": "stream",
          "text": [
            "/usr/local/lib/python3.7/dist-packages/ipykernel_launcher.py:4: FutureWarning: Indexing with multiple keys (implicitly converted to a tuple of keys) will be deprecated, use a list instead.\n",
            "  after removing the cwd from sys.path.\n"
          ],
          "name": "stderr"
        }
      ]
    },
    {
      "cell_type": "code",
      "metadata": {
        "colab": {
          "base_uri": "https://localhost:8080/",
          "height": 1000
        },
        "id": "Bxxo6c1NZtkJ",
        "outputId": "9a7bd1e0-6b30-4514-ae7c-4043ca2ef506"
      },
      "source": [
        "X_15[:60]"
      ],
      "execution_count": null,
      "outputs": [
        {
          "output_type": "execute_result",
          "data": {
            "text/html": [
              "<div>\n",
              "<style scoped>\n",
              "    .dataframe tbody tr th:only-of-type {\n",
              "        vertical-align: middle;\n",
              "    }\n",
              "\n",
              "    .dataframe tbody tr th {\n",
              "        vertical-align: top;\n",
              "    }\n",
              "\n",
              "    .dataframe thead th {\n",
              "        text-align: right;\n",
              "    }\n",
              "</style>\n",
              "<table border=\"1\" class=\"dataframe\">\n",
              "  <thead>\n",
              "    <tr style=\"text-align: right;\">\n",
              "      <th></th>\n",
              "      <th>UserID</th>\n",
              "      <th>ProductID</th>\n",
              "      <th>day</th>\n",
              "      <th>vis_time</th>\n",
              "    </tr>\n",
              "  </thead>\n",
              "  <tbody>\n",
              "    <tr>\n",
              "      <th>0</th>\n",
              "      <td>U100002</td>\n",
              "      <td>pr100258</td>\n",
              "      <td>3</td>\n",
              "      <td>2018-05-18 10:43:56.628</td>\n",
              "    </tr>\n",
              "    <tr>\n",
              "      <th>1</th>\n",
              "      <td>U100003</td>\n",
              "      <td>pr100079</td>\n",
              "      <td>1</td>\n",
              "      <td>2018-05-25 02:15:57.831</td>\n",
              "    </tr>\n",
              "    <tr>\n",
              "      <th>2</th>\n",
              "      <td>U100004</td>\n",
              "      <td>pr100069</td>\n",
              "      <td>1</td>\n",
              "      <td>2018-05-20 14:38:37.204</td>\n",
              "    </tr>\n",
              "    <tr>\n",
              "      <th>3</th>\n",
              "      <td>U100004</td>\n",
              "      <td>pr100142</td>\n",
              "      <td>1</td>\n",
              "      <td>2018-05-16 18:25:41.371</td>\n",
              "    </tr>\n",
              "    <tr>\n",
              "      <th>4</th>\n",
              "      <td>U100004</td>\n",
              "      <td>pr100197</td>\n",
              "      <td>1</td>\n",
              "      <td>2018-05-17 13:52:57.648</td>\n",
              "    </tr>\n",
              "    <tr>\n",
              "      <th>5</th>\n",
              "      <td>U100004</td>\n",
              "      <td>pr100311</td>\n",
              "      <td>3</td>\n",
              "      <td>2018-05-21 13:36:01.227</td>\n",
              "    </tr>\n",
              "    <tr>\n",
              "      <th>6</th>\n",
              "      <td>U100004</td>\n",
              "      <td>pr100312</td>\n",
              "      <td>1</td>\n",
              "      <td>2018-05-15 13:41:57.137</td>\n",
              "    </tr>\n",
              "    <tr>\n",
              "      <th>7</th>\n",
              "      <td>U100004</td>\n",
              "      <td>pr100355</td>\n",
              "      <td>1</td>\n",
              "      <td>2018-05-18 11:34:47.329</td>\n",
              "    </tr>\n",
              "    <tr>\n",
              "      <th>8</th>\n",
              "      <td>U100004</td>\n",
              "      <td>pr100408</td>\n",
              "      <td>1</td>\n",
              "      <td>2018-05-17 11:40:35.288</td>\n",
              "    </tr>\n",
              "    <tr>\n",
              "      <th>9</th>\n",
              "      <td>U100004</td>\n",
              "      <td>pr100591</td>\n",
              "      <td>1</td>\n",
              "      <td>2018-05-17 12:44:48.718</td>\n",
              "    </tr>\n",
              "    <tr>\n",
              "      <th>10</th>\n",
              "      <td>U100004</td>\n",
              "      <td>pr100694</td>\n",
              "      <td>2</td>\n",
              "      <td>2018-05-20 14:38:31.665</td>\n",
              "    </tr>\n",
              "    <tr>\n",
              "      <th>11</th>\n",
              "      <td>U100004</td>\n",
              "      <td>pr100753</td>\n",
              "      <td>3</td>\n",
              "      <td>2018-05-20 14:38:36.742</td>\n",
              "    </tr>\n",
              "    <tr>\n",
              "      <th>12</th>\n",
              "      <td>U100004</td>\n",
              "      <td>pr101448</td>\n",
              "      <td>1</td>\n",
              "      <td>2018-05-19 12:26:48.411</td>\n",
              "    </tr>\n",
              "    <tr>\n",
              "      <th>13</th>\n",
              "      <td>U100004</td>\n",
              "      <td>pr101505</td>\n",
              "      <td>2</td>\n",
              "      <td>2018-05-17 12:12:53.488</td>\n",
              "    </tr>\n",
              "    <tr>\n",
              "      <th>14</th>\n",
              "      <td>U100005</td>\n",
              "      <td>pr100234</td>\n",
              "      <td>1</td>\n",
              "      <td>2018-05-26 01:06:30.258</td>\n",
              "    </tr>\n",
              "    <tr>\n",
              "      <th>15</th>\n",
              "      <td>U100005</td>\n",
              "      <td>pr100430</td>\n",
              "      <td>1</td>\n",
              "      <td>2018-05-19 23:27:47.037</td>\n",
              "    </tr>\n",
              "    <tr>\n",
              "      <th>16</th>\n",
              "      <td>U100005</td>\n",
              "      <td>pr102072</td>\n",
              "      <td>1</td>\n",
              "      <td>2018-05-14 21:50:24.167</td>\n",
              "    </tr>\n",
              "    <tr>\n",
              "      <th>17</th>\n",
              "      <td>U100006</td>\n",
              "      <td>pr101111</td>\n",
              "      <td>1</td>\n",
              "      <td>2018-05-21 07:21:59.460</td>\n",
              "    </tr>\n",
              "    <tr>\n",
              "      <th>18</th>\n",
              "      <td>U100008</td>\n",
              "      <td>pr100010</td>\n",
              "      <td>1</td>\n",
              "      <td>2018-05-24 09:56:22.225</td>\n",
              "    </tr>\n",
              "    <tr>\n",
              "      <th>19</th>\n",
              "      <td>U100008</td>\n",
              "      <td>pr100025</td>\n",
              "      <td>3</td>\n",
              "      <td>2018-05-26 21:23:06.703</td>\n",
              "    </tr>\n",
              "    <tr>\n",
              "      <th>20</th>\n",
              "      <td>U100008</td>\n",
              "      <td>pr100089</td>\n",
              "      <td>2</td>\n",
              "      <td>2018-05-26 18:36:16.839</td>\n",
              "    </tr>\n",
              "    <tr>\n",
              "      <th>21</th>\n",
              "      <td>U100008</td>\n",
              "      <td>pr100182</td>\n",
              "      <td>2</td>\n",
              "      <td>2018-05-26 17:03:45.753</td>\n",
              "    </tr>\n",
              "    <tr>\n",
              "      <th>22</th>\n",
              "      <td>U100008</td>\n",
              "      <td>pr100184</td>\n",
              "      <td>3</td>\n",
              "      <td>2018-05-25 21:49:37.253</td>\n",
              "    </tr>\n",
              "    <tr>\n",
              "      <th>23</th>\n",
              "      <td>U100008</td>\n",
              "      <td>pr100234</td>\n",
              "      <td>1</td>\n",
              "      <td>2018-05-26 11:01:53.584</td>\n",
              "    </tr>\n",
              "    <tr>\n",
              "      <th>24</th>\n",
              "      <td>U100008</td>\n",
              "      <td>pr100444</td>\n",
              "      <td>1</td>\n",
              "      <td>2018-05-19 20:28:07.707</td>\n",
              "    </tr>\n",
              "    <tr>\n",
              "      <th>25</th>\n",
              "      <td>U100008</td>\n",
              "      <td>pr100498</td>\n",
              "      <td>2</td>\n",
              "      <td>2018-05-23 22:36:45.138</td>\n",
              "    </tr>\n",
              "    <tr>\n",
              "      <th>26</th>\n",
              "      <td>U100008</td>\n",
              "      <td>pr100560</td>\n",
              "      <td>1</td>\n",
              "      <td>2018-05-26 10:55:58.642</td>\n",
              "    </tr>\n",
              "    <tr>\n",
              "      <th>27</th>\n",
              "      <td>U100008</td>\n",
              "      <td>pr100606</td>\n",
              "      <td>2</td>\n",
              "      <td>2018-05-26 11:01:34.099</td>\n",
              "    </tr>\n",
              "    <tr>\n",
              "      <th>28</th>\n",
              "      <td>U100008</td>\n",
              "      <td>pr100788</td>\n",
              "      <td>1</td>\n",
              "      <td>2018-05-21 11:43:06.933</td>\n",
              "    </tr>\n",
              "    <tr>\n",
              "      <th>29</th>\n",
              "      <td>U100008</td>\n",
              "      <td>pr100822</td>\n",
              "      <td>2</td>\n",
              "      <td>2018-05-19 20:25:17.013</td>\n",
              "    </tr>\n",
              "    <tr>\n",
              "      <th>30</th>\n",
              "      <td>U100008</td>\n",
              "      <td>pr100855</td>\n",
              "      <td>3</td>\n",
              "      <td>2018-05-26 10:57:46.449</td>\n",
              "    </tr>\n",
              "    <tr>\n",
              "      <th>31</th>\n",
              "      <td>U100008</td>\n",
              "      <td>pr100962</td>\n",
              "      <td>1</td>\n",
              "      <td>2018-05-27 02:14:24.003</td>\n",
              "    </tr>\n",
              "    <tr>\n",
              "      <th>32</th>\n",
              "      <td>U100008</td>\n",
              "      <td>pr101287</td>\n",
              "      <td>1</td>\n",
              "      <td>2018-05-24 18:32:18.072</td>\n",
              "    </tr>\n",
              "    <tr>\n",
              "      <th>33</th>\n",
              "      <td>U100008</td>\n",
              "      <td>pr101686</td>\n",
              "      <td>1</td>\n",
              "      <td>2018-05-23 16:18:11.788</td>\n",
              "    </tr>\n",
              "    <tr>\n",
              "      <th>34</th>\n",
              "      <td>U100009</td>\n",
              "      <td>pr100017</td>\n",
              "      <td>2</td>\n",
              "      <td>2018-05-20 16:16:09.125</td>\n",
              "    </tr>\n",
              "    <tr>\n",
              "      <th>35</th>\n",
              "      <td>U100009</td>\n",
              "      <td>pr100021</td>\n",
              "      <td>1</td>\n",
              "      <td>2018-05-26 07:24:48.872</td>\n",
              "    </tr>\n",
              "    <tr>\n",
              "      <th>36</th>\n",
              "      <td>U100009</td>\n",
              "      <td>pr100086</td>\n",
              "      <td>1</td>\n",
              "      <td>2018-05-15 22:02:40.778</td>\n",
              "    </tr>\n",
              "    <tr>\n",
              "      <th>37</th>\n",
              "      <td>U100009</td>\n",
              "      <td>pr100166</td>\n",
              "      <td>1</td>\n",
              "      <td>2018-05-18 21:04:45.850</td>\n",
              "    </tr>\n",
              "    <tr>\n",
              "      <th>38</th>\n",
              "      <td>U100009</td>\n",
              "      <td>pr100167</td>\n",
              "      <td>2</td>\n",
              "      <td>2018-05-15 22:02:40.778</td>\n",
              "    </tr>\n",
              "    <tr>\n",
              "      <th>39</th>\n",
              "      <td>U100009</td>\n",
              "      <td>pr100209</td>\n",
              "      <td>1</td>\n",
              "      <td>2018-05-22 21:35:48.139</td>\n",
              "    </tr>\n",
              "    <tr>\n",
              "      <th>40</th>\n",
              "      <td>U100009</td>\n",
              "      <td>pr100233</td>\n",
              "      <td>1</td>\n",
              "      <td>2018-05-15 22:06:19.819</td>\n",
              "    </tr>\n",
              "    <tr>\n",
              "      <th>41</th>\n",
              "      <td>U100009</td>\n",
              "      <td>pr100640</td>\n",
              "      <td>1</td>\n",
              "      <td>2018-05-26 12:00:36.685</td>\n",
              "    </tr>\n",
              "    <tr>\n",
              "      <th>42</th>\n",
              "      <td>U100009</td>\n",
              "      <td>pr101070</td>\n",
              "      <td>1</td>\n",
              "      <td>2018-05-23 21:25:08.943</td>\n",
              "    </tr>\n",
              "    <tr>\n",
              "      <th>43</th>\n",
              "      <td>U100009</td>\n",
              "      <td>pr101657</td>\n",
              "      <td>1</td>\n",
              "      <td>2018-05-15 22:06:19.819</td>\n",
              "    </tr>\n",
              "    <tr>\n",
              "      <th>44</th>\n",
              "      <td>U100009</td>\n",
              "      <td>pr102091</td>\n",
              "      <td>1</td>\n",
              "      <td>2018-05-22 21:35:32.948</td>\n",
              "    </tr>\n",
              "    <tr>\n",
              "      <th>45</th>\n",
              "      <td>U100012</td>\n",
              "      <td>pr100017</td>\n",
              "      <td>4</td>\n",
              "      <td>2018-05-27 22:18:45.061</td>\n",
              "    </tr>\n",
              "    <tr>\n",
              "      <th>46</th>\n",
              "      <td>U100012</td>\n",
              "      <td>pr100036</td>\n",
              "      <td>1</td>\n",
              "      <td>2018-05-14 20:30:06.390</td>\n",
              "    </tr>\n",
              "    <tr>\n",
              "      <th>47</th>\n",
              "      <td>U100012</td>\n",
              "      <td>pr100055</td>\n",
              "      <td>10</td>\n",
              "      <td>2018-05-27 22:19:38.766</td>\n",
              "    </tr>\n",
              "    <tr>\n",
              "      <th>48</th>\n",
              "      <td>U100012</td>\n",
              "      <td>pr100415</td>\n",
              "      <td>2</td>\n",
              "      <td>2018-05-27 12:25:13.711</td>\n",
              "    </tr>\n",
              "    <tr>\n",
              "      <th>49</th>\n",
              "      <td>U100012</td>\n",
              "      <td>pr100593</td>\n",
              "      <td>1</td>\n",
              "      <td>2018-05-14 20:30:22.466</td>\n",
              "    </tr>\n",
              "    <tr>\n",
              "      <th>50</th>\n",
              "      <td>U100012</td>\n",
              "      <td>pr100853</td>\n",
              "      <td>1</td>\n",
              "      <td>2018-05-27 00:59:40.063</td>\n",
              "    </tr>\n",
              "    <tr>\n",
              "      <th>51</th>\n",
              "      <td>U100013</td>\n",
              "      <td>pr100134</td>\n",
              "      <td>1</td>\n",
              "      <td>2018-05-27 20:30:35.144</td>\n",
              "    </tr>\n",
              "    <tr>\n",
              "      <th>52</th>\n",
              "      <td>U100013</td>\n",
              "      <td>pr100177</td>\n",
              "      <td>4</td>\n",
              "      <td>2018-05-26 20:14:26.692</td>\n",
              "    </tr>\n",
              "    <tr>\n",
              "      <th>53</th>\n",
              "      <td>U100013</td>\n",
              "      <td>pr100758</td>\n",
              "      <td>1</td>\n",
              "      <td>2018-05-24 21:09:48.201</td>\n",
              "    </tr>\n",
              "    <tr>\n",
              "      <th>54</th>\n",
              "      <td>U100014</td>\n",
              "      <td>pr100126</td>\n",
              "      <td>1</td>\n",
              "      <td>2018-05-19 03:21:26.138</td>\n",
              "    </tr>\n",
              "    <tr>\n",
              "      <th>55</th>\n",
              "      <td>U100014</td>\n",
              "      <td>pr100578</td>\n",
              "      <td>2</td>\n",
              "      <td>2018-05-25 00:27:02.208</td>\n",
              "    </tr>\n",
              "    <tr>\n",
              "      <th>56</th>\n",
              "      <td>U100015</td>\n",
              "      <td>pr100044</td>\n",
              "      <td>2</td>\n",
              "      <td>2018-05-24 17:45:54.978</td>\n",
              "    </tr>\n",
              "    <tr>\n",
              "      <th>57</th>\n",
              "      <td>U100015</td>\n",
              "      <td>pr100095</td>\n",
              "      <td>1</td>\n",
              "      <td>2018-05-24 17:46:47.223</td>\n",
              "    </tr>\n",
              "    <tr>\n",
              "      <th>58</th>\n",
              "      <td>U100015</td>\n",
              "      <td>pr100232</td>\n",
              "      <td>1</td>\n",
              "      <td>2018-05-24 17:46:16.086</td>\n",
              "    </tr>\n",
              "    <tr>\n",
              "      <th>59</th>\n",
              "      <td>U100015</td>\n",
              "      <td>pr100390</td>\n",
              "      <td>1</td>\n",
              "      <td>2018-05-24 17:47:20.056</td>\n",
              "    </tr>\n",
              "  </tbody>\n",
              "</table>\n",
              "</div>"
            ],
            "text/plain": [
              "     UserID ProductID  day                vis_time\n",
              "0   U100002  pr100258    3 2018-05-18 10:43:56.628\n",
              "1   U100003  pr100079    1 2018-05-25 02:15:57.831\n",
              "2   U100004  pr100069    1 2018-05-20 14:38:37.204\n",
              "3   U100004  pr100142    1 2018-05-16 18:25:41.371\n",
              "4   U100004  pr100197    1 2018-05-17 13:52:57.648\n",
              "5   U100004  pr100311    3 2018-05-21 13:36:01.227\n",
              "6   U100004  pr100312    1 2018-05-15 13:41:57.137\n",
              "7   U100004  pr100355    1 2018-05-18 11:34:47.329\n",
              "8   U100004  pr100408    1 2018-05-17 11:40:35.288\n",
              "9   U100004  pr100591    1 2018-05-17 12:44:48.718\n",
              "10  U100004  pr100694    2 2018-05-20 14:38:31.665\n",
              "11  U100004  pr100753    3 2018-05-20 14:38:36.742\n",
              "12  U100004  pr101448    1 2018-05-19 12:26:48.411\n",
              "13  U100004  pr101505    2 2018-05-17 12:12:53.488\n",
              "14  U100005  pr100234    1 2018-05-26 01:06:30.258\n",
              "15  U100005  pr100430    1 2018-05-19 23:27:47.037\n",
              "16  U100005  pr102072    1 2018-05-14 21:50:24.167\n",
              "17  U100006  pr101111    1 2018-05-21 07:21:59.460\n",
              "18  U100008  pr100010    1 2018-05-24 09:56:22.225\n",
              "19  U100008  pr100025    3 2018-05-26 21:23:06.703\n",
              "20  U100008  pr100089    2 2018-05-26 18:36:16.839\n",
              "21  U100008  pr100182    2 2018-05-26 17:03:45.753\n",
              "22  U100008  pr100184    3 2018-05-25 21:49:37.253\n",
              "23  U100008  pr100234    1 2018-05-26 11:01:53.584\n",
              "24  U100008  pr100444    1 2018-05-19 20:28:07.707\n",
              "25  U100008  pr100498    2 2018-05-23 22:36:45.138\n",
              "26  U100008  pr100560    1 2018-05-26 10:55:58.642\n",
              "27  U100008  pr100606    2 2018-05-26 11:01:34.099\n",
              "28  U100008  pr100788    1 2018-05-21 11:43:06.933\n",
              "29  U100008  pr100822    2 2018-05-19 20:25:17.013\n",
              "30  U100008  pr100855    3 2018-05-26 10:57:46.449\n",
              "31  U100008  pr100962    1 2018-05-27 02:14:24.003\n",
              "32  U100008  pr101287    1 2018-05-24 18:32:18.072\n",
              "33  U100008  pr101686    1 2018-05-23 16:18:11.788\n",
              "34  U100009  pr100017    2 2018-05-20 16:16:09.125\n",
              "35  U100009  pr100021    1 2018-05-26 07:24:48.872\n",
              "36  U100009  pr100086    1 2018-05-15 22:02:40.778\n",
              "37  U100009  pr100166    1 2018-05-18 21:04:45.850\n",
              "38  U100009  pr100167    2 2018-05-15 22:02:40.778\n",
              "39  U100009  pr100209    1 2018-05-22 21:35:48.139\n",
              "40  U100009  pr100233    1 2018-05-15 22:06:19.819\n",
              "41  U100009  pr100640    1 2018-05-26 12:00:36.685\n",
              "42  U100009  pr101070    1 2018-05-23 21:25:08.943\n",
              "43  U100009  pr101657    1 2018-05-15 22:06:19.819\n",
              "44  U100009  pr102091    1 2018-05-22 21:35:32.948\n",
              "45  U100012  pr100017    4 2018-05-27 22:18:45.061\n",
              "46  U100012  pr100036    1 2018-05-14 20:30:06.390\n",
              "47  U100012  pr100055   10 2018-05-27 22:19:38.766\n",
              "48  U100012  pr100415    2 2018-05-27 12:25:13.711\n",
              "49  U100012  pr100593    1 2018-05-14 20:30:22.466\n",
              "50  U100012  pr100853    1 2018-05-27 00:59:40.063\n",
              "51  U100013  pr100134    1 2018-05-27 20:30:35.144\n",
              "52  U100013  pr100177    4 2018-05-26 20:14:26.692\n",
              "53  U100013  pr100758    1 2018-05-24 21:09:48.201\n",
              "54  U100014  pr100126    1 2018-05-19 03:21:26.138\n",
              "55  U100014  pr100578    2 2018-05-25 00:27:02.208\n",
              "56  U100015  pr100044    2 2018-05-24 17:45:54.978\n",
              "57  U100015  pr100095    1 2018-05-24 17:46:47.223\n",
              "58  U100015  pr100232    1 2018-05-24 17:46:16.086\n",
              "59  U100015  pr100390    1 2018-05-24 17:47:20.056"
            ]
          },
          "metadata": {
            "tags": []
          },
          "execution_count": 54
        }
      ]
    },
    {
      "cell_type": "code",
      "metadata": {
        "id": "qOV0VQvQCHq0"
      },
      "source": [
        "# Groupby by number of times a product was viewed and if products were viewed same number of time then select the most recent one\n",
        "xa=X_15.groupby(['UserID','day']).apply(lambda x: x[x['vis_time']==x['vis_time'].max()]['ProductID']).reset_index()"
      ],
      "execution_count": null,
      "outputs": []
    },
    {
      "cell_type": "code",
      "metadata": {
        "id": "s0Dq1OaGDPGi"
      },
      "source": [
        "xa.drop('level_2', axis=1, inplace=True)# drop the additional column"
      ],
      "execution_count": null,
      "outputs": []
    },
    {
      "cell_type": "code",
      "metadata": {
        "id": "aujiHfNniUWL"
      },
      "source": [
        "# Select the product IDs which were viewed the most\n",
        "X_q4=xa.groupby('UserID').apply(lambda x: x[x['day']==x['day'].max()]['ProductID']).reset_index().drop('level_1',axis=1)"
      ],
      "execution_count": null,
      "outputs": []
    },
    {
      "cell_type": "code",
      "metadata": {
        "colab": {
          "base_uri": "https://localhost:8080/",
          "height": 402
        },
        "id": "bbg-vykbZHeR",
        "outputId": "eebfee0e-4fe0-4482-dfb6-b950e9572dd0"
      },
      "source": [
        "\n",
        "X_q4=X_q4.rename(columns={'ProductID':'Most_Viewed_product_15_Days'})\n",
        "X_q4 #table representing most viewed products in 15 days\n"
      ],
      "execution_count": null,
      "outputs": [
        {
          "output_type": "execute_result",
          "data": {
            "text/html": [
              "<div>\n",
              "<style scoped>\n",
              "    .dataframe tbody tr th:only-of-type {\n",
              "        vertical-align: middle;\n",
              "    }\n",
              "\n",
              "    .dataframe tbody tr th {\n",
              "        vertical-align: top;\n",
              "    }\n",
              "\n",
              "    .dataframe thead th {\n",
              "        text-align: right;\n",
              "    }\n",
              "</style>\n",
              "<table border=\"1\" class=\"dataframe\">\n",
              "  <thead>\n",
              "    <tr style=\"text-align: right;\">\n",
              "      <th></th>\n",
              "      <th>UserID</th>\n",
              "      <th>Most_Viewed_product_15_Days</th>\n",
              "    </tr>\n",
              "  </thead>\n",
              "  <tbody>\n",
              "    <tr>\n",
              "      <th>0</th>\n",
              "      <td>U100002</td>\n",
              "      <td>pr100258</td>\n",
              "    </tr>\n",
              "    <tr>\n",
              "      <th>1</th>\n",
              "      <td>U100003</td>\n",
              "      <td>pr100079</td>\n",
              "    </tr>\n",
              "    <tr>\n",
              "      <th>2</th>\n",
              "      <td>U100004</td>\n",
              "      <td>pr100311</td>\n",
              "    </tr>\n",
              "    <tr>\n",
              "      <th>3</th>\n",
              "      <td>U100005</td>\n",
              "      <td>pr100234</td>\n",
              "    </tr>\n",
              "    <tr>\n",
              "      <th>4</th>\n",
              "      <td>U100006</td>\n",
              "      <td>pr101111</td>\n",
              "    </tr>\n",
              "    <tr>\n",
              "      <th>...</th>\n",
              "      <td>...</td>\n",
              "      <td>...</td>\n",
              "    </tr>\n",
              "    <tr>\n",
              "      <th>24456</th>\n",
              "      <td>U136758</td>\n",
              "      <td>pr100051</td>\n",
              "    </tr>\n",
              "    <tr>\n",
              "      <th>24457</th>\n",
              "      <td>U136838</td>\n",
              "      <td>pr100499</td>\n",
              "    </tr>\n",
              "    <tr>\n",
              "      <th>24458</th>\n",
              "      <td>U136840</td>\n",
              "      <td>pr100166</td>\n",
              "    </tr>\n",
              "    <tr>\n",
              "      <th>24459</th>\n",
              "      <td>U136936</td>\n",
              "      <td>pr100003</td>\n",
              "    </tr>\n",
              "    <tr>\n",
              "      <th>24460</th>\n",
              "      <td>U136956</td>\n",
              "      <td>pr100312</td>\n",
              "    </tr>\n",
              "  </tbody>\n",
              "</table>\n",
              "<p>24461 rows × 2 columns</p>\n",
              "</div>"
            ],
            "text/plain": [
              "        UserID Most_Viewed_product_15_Days\n",
              "0      U100002                    pr100258\n",
              "1      U100003                    pr100079\n",
              "2      U100004                    pr100311\n",
              "3      U100005                    pr100234\n",
              "4      U100006                    pr101111\n",
              "...        ...                         ...\n",
              "24456  U136758                    pr100051\n",
              "24457  U136838                    pr100499\n",
              "24458  U136840                    pr100166\n",
              "24459  U136936                    pr100003\n",
              "24460  U136956                    pr100312\n",
              "\n",
              "[24461 rows x 2 columns]"
            ]
          },
          "metadata": {
            "tags": []
          },
          "execution_count": 61
        }
      ]
    },
    {
      "cell_type": "code",
      "metadata": {
        "id": "9JaChNxwET7N"
      },
      "source": [
        "X_q4=X_q4.drop_duplicates(subset=['UserID'], keep='first').reset_index(drop=True) # drop the duplicates if any"
      ],
      "execution_count": null,
      "outputs": []
    },
    {
      "cell_type": "code",
      "metadata": {
        "id": "bHnVzr4_d0Uk"
      },
      "source": [
        "#Most Frequently used OS by user. \n",
        "a=X.groupby(['UserID', 'OS'])['Activity'].count().reset_index() # Count the number of times each OS is used by the user"
      ],
      "execution_count": null,
      "outputs": []
    },
    {
      "cell_type": "code",
      "metadata": {
        "id": "BlR0Ad5vQ0Qo"
      },
      "source": [
        "# FInd the OS which is uded mostly by each user\n",
        "X_q5=a.groupby('UserID').apply(lambda x: x[x['Activity']==x['Activity'].max()]['OS']).reset_index().drop('level_1', axis=1)"
      ],
      "execution_count": null,
      "outputs": []
    },
    {
      "cell_type": "code",
      "metadata": {
        "id": "YVDlk1FKohwk"
      },
      "source": [
        "X_q5=X_q5.drop_duplicates(subset=['UserID'], keep='first').reset_index(drop=True) # drop duplicates if any"
      ],
      "execution_count": null,
      "outputs": []
    },
    {
      "cell_type": "code",
      "metadata": {
        "colab": {
          "base_uri": "https://localhost:8080/",
          "height": 402
        },
        "id": "wvei2BSpkiR3",
        "outputId": "2819fe02-c701-4a4d-f0a5-11e6d2cd15af"
      },
      "source": [
        "X_q5=X_q5.rename(columns={'OS':'Most_Active_OS'})\n",
        "X_q5 #table representing frequent used OS"
      ],
      "execution_count": null,
      "outputs": [
        {
          "output_type": "execute_result",
          "data": {
            "text/html": [
              "<div>\n",
              "<style scoped>\n",
              "    .dataframe tbody tr th:only-of-type {\n",
              "        vertical-align: middle;\n",
              "    }\n",
              "\n",
              "    .dataframe tbody tr th {\n",
              "        vertical-align: top;\n",
              "    }\n",
              "\n",
              "    .dataframe thead th {\n",
              "        text-align: right;\n",
              "    }\n",
              "</style>\n",
              "<table border=\"1\" class=\"dataframe\">\n",
              "  <thead>\n",
              "    <tr style=\"text-align: right;\">\n",
              "      <th></th>\n",
              "      <th>UserID</th>\n",
              "      <th>Most_Active_OS</th>\n",
              "    </tr>\n",
              "  </thead>\n",
              "  <tbody>\n",
              "    <tr>\n",
              "      <th>0</th>\n",
              "      <td>U100002</td>\n",
              "      <td>android</td>\n",
              "    </tr>\n",
              "    <tr>\n",
              "      <th>1</th>\n",
              "      <td>U100003</td>\n",
              "      <td>windows</td>\n",
              "    </tr>\n",
              "    <tr>\n",
              "      <th>2</th>\n",
              "      <td>U100004</td>\n",
              "      <td>windows</td>\n",
              "    </tr>\n",
              "    <tr>\n",
              "      <th>3</th>\n",
              "      <td>U100005</td>\n",
              "      <td>android</td>\n",
              "    </tr>\n",
              "    <tr>\n",
              "      <th>4</th>\n",
              "      <td>U100006</td>\n",
              "      <td>android</td>\n",
              "    </tr>\n",
              "    <tr>\n",
              "      <th>...</th>\n",
              "      <td>...</td>\n",
              "      <td>...</td>\n",
              "    </tr>\n",
              "    <tr>\n",
              "      <th>34045</th>\n",
              "      <td>U136960</td>\n",
              "      <td>windows</td>\n",
              "    </tr>\n",
              "    <tr>\n",
              "      <th>34046</th>\n",
              "      <td>U136961</td>\n",
              "      <td>android</td>\n",
              "    </tr>\n",
              "    <tr>\n",
              "      <th>34047</th>\n",
              "      <td>U136963</td>\n",
              "      <td>android</td>\n",
              "    </tr>\n",
              "    <tr>\n",
              "      <th>34048</th>\n",
              "      <td>U136964</td>\n",
              "      <td>windows</td>\n",
              "    </tr>\n",
              "    <tr>\n",
              "      <th>34049</th>\n",
              "      <td>U136965</td>\n",
              "      <td>android</td>\n",
              "    </tr>\n",
              "  </tbody>\n",
              "</table>\n",
              "<p>34050 rows × 2 columns</p>\n",
              "</div>"
            ],
            "text/plain": [
              "        UserID Most_Active_OS\n",
              "0      U100002        android\n",
              "1      U100003        windows\n",
              "2      U100004        windows\n",
              "3      U100005        android\n",
              "4      U100006        android\n",
              "...        ...            ...\n",
              "34045  U136960        windows\n",
              "34046  U136961        android\n",
              "34047  U136963        android\n",
              "34048  U136964        windows\n",
              "34049  U136965        android\n",
              "\n",
              "[34050 rows x 2 columns]"
            ]
          },
          "metadata": {
            "tags": []
          },
          "execution_count": 70
        }
      ]
    },
    {
      "cell_type": "code",
      "metadata": {
        "id": "94W4dgNxkepm"
      },
      "source": [
        "# Filter with activity= pageloads and then select product IDs which were viewed most recently\n",
        "X_q6=X[(X['Activity']=='pageload')].groupby(['UserID']).apply(lambda x: x[x['vis_time']==x['vis_time'].max()]['ProductID']).reset_index()\n"
      ],
      "execution_count": null,
      "outputs": []
    },
    {
      "cell_type": "code",
      "metadata": {
        "colab": {
          "base_uri": "https://localhost:8080/",
          "height": 1000
        },
        "id": "3ygwDgIXsPqF",
        "outputId": "469b4d27-e924-46b5-e837-4f19965284e8"
      },
      "source": [
        "X_q6[:60]"
      ],
      "execution_count": null,
      "outputs": [
        {
          "output_type": "execute_result",
          "data": {
            "text/html": [
              "<div>\n",
              "<style scoped>\n",
              "    .dataframe tbody tr th:only-of-type {\n",
              "        vertical-align: middle;\n",
              "    }\n",
              "\n",
              "    .dataframe tbody tr th {\n",
              "        vertical-align: top;\n",
              "    }\n",
              "\n",
              "    .dataframe thead th {\n",
              "        text-align: right;\n",
              "    }\n",
              "</style>\n",
              "<table border=\"1\" class=\"dataframe\">\n",
              "  <thead>\n",
              "    <tr style=\"text-align: right;\">\n",
              "      <th></th>\n",
              "      <th>UserID</th>\n",
              "      <th>vis_time</th>\n",
              "      <th>ProductID</th>\n",
              "    </tr>\n",
              "  </thead>\n",
              "  <tbody>\n",
              "    <tr>\n",
              "      <th>0</th>\n",
              "      <td>U100002</td>\n",
              "      <td>2018-05-18 10:43:56.628</td>\n",
              "      <td>pr100258</td>\n",
              "    </tr>\n",
              "    <tr>\n",
              "      <th>1</th>\n",
              "      <td>U100003</td>\n",
              "      <td>2018-05-25 02:15:57.831</td>\n",
              "      <td>pr100079</td>\n",
              "    </tr>\n",
              "    <tr>\n",
              "      <th>2</th>\n",
              "      <td>U100004</td>\n",
              "      <td>2018-05-21 13:36:01.227</td>\n",
              "      <td>pr100311</td>\n",
              "    </tr>\n",
              "    <tr>\n",
              "      <th>3</th>\n",
              "      <td>U100005</td>\n",
              "      <td>2018-05-26 01:06:30.258</td>\n",
              "      <td>pr100234</td>\n",
              "    </tr>\n",
              "    <tr>\n",
              "      <th>4</th>\n",
              "      <td>U100006</td>\n",
              "      <td>2018-05-21 07:21:59.460</td>\n",
              "      <td>pr101111</td>\n",
              "    </tr>\n",
              "    <tr>\n",
              "      <th>5</th>\n",
              "      <td>U100007</td>\n",
              "      <td>2018-05-12 01:45:25.101</td>\n",
              "      <td>pr100265</td>\n",
              "    </tr>\n",
              "    <tr>\n",
              "      <th>6</th>\n",
              "      <td>U100007</td>\n",
              "      <td>2018-05-12 01:45:25.101</td>\n",
              "      <td>pr100265</td>\n",
              "    </tr>\n",
              "    <tr>\n",
              "      <th>7</th>\n",
              "      <td>U100008</td>\n",
              "      <td>2018-05-27 02:14:24.003</td>\n",
              "      <td>pr100962</td>\n",
              "    </tr>\n",
              "    <tr>\n",
              "      <th>8</th>\n",
              "      <td>U100009</td>\n",
              "      <td>2018-05-26 12:00:36.685</td>\n",
              "      <td>pr100640</td>\n",
              "    </tr>\n",
              "    <tr>\n",
              "      <th>9</th>\n",
              "      <td>U100012</td>\n",
              "      <td>2018-05-27 22:19:38.766</td>\n",
              "      <td>pr100055</td>\n",
              "    </tr>\n",
              "    <tr>\n",
              "      <th>10</th>\n",
              "      <td>U100013</td>\n",
              "      <td>2018-05-27 20:30:35.144</td>\n",
              "      <td>pr100134</td>\n",
              "    </tr>\n",
              "    <tr>\n",
              "      <th>11</th>\n",
              "      <td>U100014</td>\n",
              "      <td>2018-05-25 00:27:02.208</td>\n",
              "      <td>pr100578</td>\n",
              "    </tr>\n",
              "    <tr>\n",
              "      <th>12</th>\n",
              "      <td>U100015</td>\n",
              "      <td>2018-05-24 17:47:20.056</td>\n",
              "      <td>pr100390</td>\n",
              "    </tr>\n",
              "    <tr>\n",
              "      <th>13</th>\n",
              "      <td>U100016</td>\n",
              "      <td>2018-05-25 19:19:37.552</td>\n",
              "      <td>pr100172</td>\n",
              "    </tr>\n",
              "    <tr>\n",
              "      <th>14</th>\n",
              "      <td>U100018</td>\n",
              "      <td>2018-05-26 15:24:52.451</td>\n",
              "      <td>pr100403</td>\n",
              "    </tr>\n",
              "    <tr>\n",
              "      <th>15</th>\n",
              "      <td>U100019</td>\n",
              "      <td>2018-05-27 15:05:09.080</td>\n",
              "      <td>pr100017</td>\n",
              "    </tr>\n",
              "    <tr>\n",
              "      <th>16</th>\n",
              "      <td>U100020</td>\n",
              "      <td>2018-05-15 14:43:50.464</td>\n",
              "      <td>pr100017</td>\n",
              "    </tr>\n",
              "    <tr>\n",
              "      <th>17</th>\n",
              "      <td>U100023</td>\n",
              "      <td>2018-05-27 16:16:09.280</td>\n",
              "      <td>pr100181</td>\n",
              "    </tr>\n",
              "    <tr>\n",
              "      <th>18</th>\n",
              "      <td>U100024</td>\n",
              "      <td>2018-05-27 09:00:14.027</td>\n",
              "      <td>pr100025</td>\n",
              "    </tr>\n",
              "    <tr>\n",
              "      <th>19</th>\n",
              "      <td>U100025</td>\n",
              "      <td>2018-05-07 23:07:28.339</td>\n",
              "      <td>pr100240</td>\n",
              "    </tr>\n",
              "    <tr>\n",
              "      <th>20</th>\n",
              "      <td>U100026</td>\n",
              "      <td>2018-05-27 00:50:31.356</td>\n",
              "      <td>pr100102</td>\n",
              "    </tr>\n",
              "    <tr>\n",
              "      <th>21</th>\n",
              "      <td>U100027</td>\n",
              "      <td>2018-05-26 14:45:40.656</td>\n",
              "      <td>pr101746</td>\n",
              "    </tr>\n",
              "    <tr>\n",
              "      <th>22</th>\n",
              "      <td>U100028</td>\n",
              "      <td>2018-05-20 21:31:35.579</td>\n",
              "      <td>pr100137</td>\n",
              "    </tr>\n",
              "    <tr>\n",
              "      <th>23</th>\n",
              "      <td>U100028</td>\n",
              "      <td>2018-05-20 21:31:35.579</td>\n",
              "      <td>pr100137</td>\n",
              "    </tr>\n",
              "    <tr>\n",
              "      <th>24</th>\n",
              "      <td>U100029</td>\n",
              "      <td>2018-05-22 09:21:10.350</td>\n",
              "      <td>pr100301</td>\n",
              "    </tr>\n",
              "    <tr>\n",
              "      <th>25</th>\n",
              "      <td>U100030</td>\n",
              "      <td>2018-05-27 00:22:25.444</td>\n",
              "      <td>pr100316</td>\n",
              "    </tr>\n",
              "    <tr>\n",
              "      <th>26</th>\n",
              "      <td>U100031</td>\n",
              "      <td>2018-05-26 17:06:15.963</td>\n",
              "      <td>pr100097</td>\n",
              "    </tr>\n",
              "    <tr>\n",
              "      <th>27</th>\n",
              "      <td>U100032</td>\n",
              "      <td>2018-05-25 04:05:44.028</td>\n",
              "      <td>pr100268</td>\n",
              "    </tr>\n",
              "    <tr>\n",
              "      <th>28</th>\n",
              "      <td>U100033</td>\n",
              "      <td>2018-05-11 13:34:11.608</td>\n",
              "      <td>pr100172</td>\n",
              "    </tr>\n",
              "    <tr>\n",
              "      <th>29</th>\n",
              "      <td>U100034</td>\n",
              "      <td>2018-05-25 08:42:34.133</td>\n",
              "      <td>pr100812</td>\n",
              "    </tr>\n",
              "    <tr>\n",
              "      <th>30</th>\n",
              "      <td>U100035</td>\n",
              "      <td>2018-05-08 16:50:02.930</td>\n",
              "      <td>pr100633</td>\n",
              "    </tr>\n",
              "    <tr>\n",
              "      <th>31</th>\n",
              "      <td>U100035</td>\n",
              "      <td>2018-05-08 16:50:02.930</td>\n",
              "      <td>pr100633</td>\n",
              "    </tr>\n",
              "    <tr>\n",
              "      <th>32</th>\n",
              "      <td>U100036</td>\n",
              "      <td>2018-05-26 11:54:25.551</td>\n",
              "      <td>pr100123</td>\n",
              "    </tr>\n",
              "    <tr>\n",
              "      <th>33</th>\n",
              "      <td>U100038</td>\n",
              "      <td>2018-05-23 15:17:05.269</td>\n",
              "      <td>pr101800</td>\n",
              "    </tr>\n",
              "    <tr>\n",
              "      <th>34</th>\n",
              "      <td>U100039</td>\n",
              "      <td>2018-05-19 10:56:16.870</td>\n",
              "      <td>pr100047</td>\n",
              "    </tr>\n",
              "    <tr>\n",
              "      <th>35</th>\n",
              "      <td>U100040</td>\n",
              "      <td>2018-05-26 20:48:47.676</td>\n",
              "      <td>pr100513</td>\n",
              "    </tr>\n",
              "    <tr>\n",
              "      <th>36</th>\n",
              "      <td>U100042</td>\n",
              "      <td>2018-05-10 11:05:42.021</td>\n",
              "      <td>pr100182</td>\n",
              "    </tr>\n",
              "    <tr>\n",
              "      <th>37</th>\n",
              "      <td>U100043</td>\n",
              "      <td>2018-05-27 19:17:46.766</td>\n",
              "      <td>pr100017</td>\n",
              "    </tr>\n",
              "    <tr>\n",
              "      <th>38</th>\n",
              "      <td>U100045</td>\n",
              "      <td>2018-05-25 15:27:07.717</td>\n",
              "      <td>pr100895</td>\n",
              "    </tr>\n",
              "    <tr>\n",
              "      <th>39</th>\n",
              "      <td>U100048</td>\n",
              "      <td>2018-05-27 09:14:58.099</td>\n",
              "      <td>pr100088</td>\n",
              "    </tr>\n",
              "    <tr>\n",
              "      <th>40</th>\n",
              "      <td>U100049</td>\n",
              "      <td>2018-05-27 02:33:43.249</td>\n",
              "      <td>pr102463</td>\n",
              "    </tr>\n",
              "    <tr>\n",
              "      <th>41</th>\n",
              "      <td>U100050</td>\n",
              "      <td>2018-05-25 15:02:28.923</td>\n",
              "      <td>pr100178</td>\n",
              "    </tr>\n",
              "    <tr>\n",
              "      <th>42</th>\n",
              "      <td>U100051</td>\n",
              "      <td>2018-05-27 14:53:39.295</td>\n",
              "      <td>pr100316</td>\n",
              "    </tr>\n",
              "    <tr>\n",
              "      <th>43</th>\n",
              "      <td>U100052</td>\n",
              "      <td>2018-05-15 20:27:11.800</td>\n",
              "      <td>pr101108</td>\n",
              "    </tr>\n",
              "    <tr>\n",
              "      <th>44</th>\n",
              "      <td>U100053</td>\n",
              "      <td>2018-05-11 13:59:27.500</td>\n",
              "      <td>pr100268</td>\n",
              "    </tr>\n",
              "    <tr>\n",
              "      <th>45</th>\n",
              "      <td>U100054</td>\n",
              "      <td>2018-05-12 20:32:01.961</td>\n",
              "      <td>pr101320</td>\n",
              "    </tr>\n",
              "    <tr>\n",
              "      <th>46</th>\n",
              "      <td>U100056</td>\n",
              "      <td>2018-05-20 12:03:48.822</td>\n",
              "      <td>pr100430</td>\n",
              "    </tr>\n",
              "    <tr>\n",
              "      <th>47</th>\n",
              "      <td>U100057</td>\n",
              "      <td>2018-05-25 06:18:07.208</td>\n",
              "      <td>pr100184</td>\n",
              "    </tr>\n",
              "    <tr>\n",
              "      <th>48</th>\n",
              "      <td>U100058</td>\n",
              "      <td>2018-05-26 23:08:59.268</td>\n",
              "      <td>pr100166</td>\n",
              "    </tr>\n",
              "    <tr>\n",
              "      <th>49</th>\n",
              "      <td>U100058</td>\n",
              "      <td>2018-05-26 23:08:59.268</td>\n",
              "      <td>pr100166</td>\n",
              "    </tr>\n",
              "    <tr>\n",
              "      <th>50</th>\n",
              "      <td>U100061</td>\n",
              "      <td>2018-05-27 10:32:23.782</td>\n",
              "      <td>pr100025</td>\n",
              "    </tr>\n",
              "    <tr>\n",
              "      <th>51</th>\n",
              "      <td>U100061</td>\n",
              "      <td>2018-05-27 10:32:23.782</td>\n",
              "      <td>pr100073</td>\n",
              "    </tr>\n",
              "    <tr>\n",
              "      <th>52</th>\n",
              "      <td>U100062</td>\n",
              "      <td>2018-05-08 07:54:53.294</td>\n",
              "      <td>pr100134</td>\n",
              "    </tr>\n",
              "    <tr>\n",
              "      <th>53</th>\n",
              "      <td>U100063</td>\n",
              "      <td>2018-05-26 19:23:54.704</td>\n",
              "      <td>pr100025</td>\n",
              "    </tr>\n",
              "    <tr>\n",
              "      <th>54</th>\n",
              "      <td>U100065</td>\n",
              "      <td>2018-05-23 05:09:02.488</td>\n",
              "      <td>pr100047</td>\n",
              "    </tr>\n",
              "    <tr>\n",
              "      <th>55</th>\n",
              "      <td>U100066</td>\n",
              "      <td>2018-05-26 19:50:02.292</td>\n",
              "      <td>pr100498</td>\n",
              "    </tr>\n",
              "    <tr>\n",
              "      <th>56</th>\n",
              "      <td>U100067</td>\n",
              "      <td>2018-05-23 11:51:06.285</td>\n",
              "      <td>pr100102</td>\n",
              "    </tr>\n",
              "    <tr>\n",
              "      <th>57</th>\n",
              "      <td>U100068</td>\n",
              "      <td>2018-05-26 15:21:06.146</td>\n",
              "      <td>pr100498</td>\n",
              "    </tr>\n",
              "    <tr>\n",
              "      <th>58</th>\n",
              "      <td>U100068</td>\n",
              "      <td>2018-05-26 15:21:06.146</td>\n",
              "      <td>pr100200</td>\n",
              "    </tr>\n",
              "    <tr>\n",
              "      <th>59</th>\n",
              "      <td>U100069</td>\n",
              "      <td>2018-05-27 20:32:41.211</td>\n",
              "      <td>pr100210</td>\n",
              "    </tr>\n",
              "  </tbody>\n",
              "</table>\n",
              "</div>"
            ],
            "text/plain": [
              "     UserID                vis_time ProductID\n",
              "0   U100002 2018-05-18 10:43:56.628  pr100258\n",
              "1   U100003 2018-05-25 02:15:57.831  pr100079\n",
              "2   U100004 2018-05-21 13:36:01.227  pr100311\n",
              "3   U100005 2018-05-26 01:06:30.258  pr100234\n",
              "4   U100006 2018-05-21 07:21:59.460  pr101111\n",
              "5   U100007 2018-05-12 01:45:25.101  pr100265\n",
              "6   U100007 2018-05-12 01:45:25.101  pr100265\n",
              "7   U100008 2018-05-27 02:14:24.003  pr100962\n",
              "8   U100009 2018-05-26 12:00:36.685  pr100640\n",
              "9   U100012 2018-05-27 22:19:38.766  pr100055\n",
              "10  U100013 2018-05-27 20:30:35.144  pr100134\n",
              "11  U100014 2018-05-25 00:27:02.208  pr100578\n",
              "12  U100015 2018-05-24 17:47:20.056  pr100390\n",
              "13  U100016 2018-05-25 19:19:37.552  pr100172\n",
              "14  U100018 2018-05-26 15:24:52.451  pr100403\n",
              "15  U100019 2018-05-27 15:05:09.080  pr100017\n",
              "16  U100020 2018-05-15 14:43:50.464  pr100017\n",
              "17  U100023 2018-05-27 16:16:09.280  pr100181\n",
              "18  U100024 2018-05-27 09:00:14.027  pr100025\n",
              "19  U100025 2018-05-07 23:07:28.339  pr100240\n",
              "20  U100026 2018-05-27 00:50:31.356  pr100102\n",
              "21  U100027 2018-05-26 14:45:40.656  pr101746\n",
              "22  U100028 2018-05-20 21:31:35.579  pr100137\n",
              "23  U100028 2018-05-20 21:31:35.579  pr100137\n",
              "24  U100029 2018-05-22 09:21:10.350  pr100301\n",
              "25  U100030 2018-05-27 00:22:25.444  pr100316\n",
              "26  U100031 2018-05-26 17:06:15.963  pr100097\n",
              "27  U100032 2018-05-25 04:05:44.028  pr100268\n",
              "28  U100033 2018-05-11 13:34:11.608  pr100172\n",
              "29  U100034 2018-05-25 08:42:34.133  pr100812\n",
              "30  U100035 2018-05-08 16:50:02.930  pr100633\n",
              "31  U100035 2018-05-08 16:50:02.930  pr100633\n",
              "32  U100036 2018-05-26 11:54:25.551  pr100123\n",
              "33  U100038 2018-05-23 15:17:05.269  pr101800\n",
              "34  U100039 2018-05-19 10:56:16.870  pr100047\n",
              "35  U100040 2018-05-26 20:48:47.676  pr100513\n",
              "36  U100042 2018-05-10 11:05:42.021  pr100182\n",
              "37  U100043 2018-05-27 19:17:46.766  pr100017\n",
              "38  U100045 2018-05-25 15:27:07.717  pr100895\n",
              "39  U100048 2018-05-27 09:14:58.099  pr100088\n",
              "40  U100049 2018-05-27 02:33:43.249  pr102463\n",
              "41  U100050 2018-05-25 15:02:28.923  pr100178\n",
              "42  U100051 2018-05-27 14:53:39.295  pr100316\n",
              "43  U100052 2018-05-15 20:27:11.800  pr101108\n",
              "44  U100053 2018-05-11 13:59:27.500  pr100268\n",
              "45  U100054 2018-05-12 20:32:01.961  pr101320\n",
              "46  U100056 2018-05-20 12:03:48.822  pr100430\n",
              "47  U100057 2018-05-25 06:18:07.208  pr100184\n",
              "48  U100058 2018-05-26 23:08:59.268  pr100166\n",
              "49  U100058 2018-05-26 23:08:59.268  pr100166\n",
              "50  U100061 2018-05-27 10:32:23.782  pr100025\n",
              "51  U100061 2018-05-27 10:32:23.782  pr100073\n",
              "52  U100062 2018-05-08 07:54:53.294  pr100134\n",
              "53  U100063 2018-05-26 19:23:54.704  pr100025\n",
              "54  U100065 2018-05-23 05:09:02.488  pr100047\n",
              "55  U100066 2018-05-26 19:50:02.292  pr100498\n",
              "56  U100067 2018-05-23 11:51:06.285  pr100102\n",
              "57  U100068 2018-05-26 15:21:06.146  pr100498\n",
              "58  U100068 2018-05-26 15:21:06.146  pr100200\n",
              "59  U100069 2018-05-27 20:32:41.211  pr100210"
            ]
          },
          "metadata": {
            "tags": []
          },
          "execution_count": 72
        }
      ]
    },
    {
      "cell_type": "code",
      "metadata": {
        "colab": {
          "base_uri": "https://localhost:8080/",
          "height": 402
        },
        "id": "cfSo8KNmtKrs",
        "outputId": "69cb2a98-8e3d-4112-feae-606503837341"
      },
      "source": [
        "X_q6.drop('vis_time',axis=1, inplace=True)\n",
        "X_q6=X_q6.rename(columns={'ProductID':'Recently_Viewed_Product'})\n",
        "X_q6\n",
        "# table showing recently viewed products"
      ],
      "execution_count": null,
      "outputs": [
        {
          "output_type": "execute_result",
          "data": {
            "text/html": [
              "<div>\n",
              "<style scoped>\n",
              "    .dataframe tbody tr th:only-of-type {\n",
              "        vertical-align: middle;\n",
              "    }\n",
              "\n",
              "    .dataframe tbody tr th {\n",
              "        vertical-align: top;\n",
              "    }\n",
              "\n",
              "    .dataframe thead th {\n",
              "        text-align: right;\n",
              "    }\n",
              "</style>\n",
              "<table border=\"1\" class=\"dataframe\">\n",
              "  <thead>\n",
              "    <tr style=\"text-align: right;\">\n",
              "      <th></th>\n",
              "      <th>UserID</th>\n",
              "      <th>Recently_Viewed_Product</th>\n",
              "    </tr>\n",
              "  </thead>\n",
              "  <tbody>\n",
              "    <tr>\n",
              "      <th>0</th>\n",
              "      <td>U100002</td>\n",
              "      <td>pr100258</td>\n",
              "    </tr>\n",
              "    <tr>\n",
              "      <th>1</th>\n",
              "      <td>U100003</td>\n",
              "      <td>pr100079</td>\n",
              "    </tr>\n",
              "    <tr>\n",
              "      <th>2</th>\n",
              "      <td>U100004</td>\n",
              "      <td>pr100311</td>\n",
              "    </tr>\n",
              "    <tr>\n",
              "      <th>3</th>\n",
              "      <td>U100005</td>\n",
              "      <td>pr100234</td>\n",
              "    </tr>\n",
              "    <tr>\n",
              "      <th>4</th>\n",
              "      <td>U100006</td>\n",
              "      <td>pr101111</td>\n",
              "    </tr>\n",
              "    <tr>\n",
              "      <th>...</th>\n",
              "      <td>...</td>\n",
              "      <td>...</td>\n",
              "    </tr>\n",
              "    <tr>\n",
              "      <th>34894</th>\n",
              "      <td>U136957</td>\n",
              "      <td>pr100118</td>\n",
              "    </tr>\n",
              "    <tr>\n",
              "      <th>34895</th>\n",
              "      <td>U136959</td>\n",
              "      <td>pr100102</td>\n",
              "    </tr>\n",
              "    <tr>\n",
              "      <th>34896</th>\n",
              "      <td>U136961</td>\n",
              "      <td>pr101381</td>\n",
              "    </tr>\n",
              "    <tr>\n",
              "      <th>34897</th>\n",
              "      <td>U136963</td>\n",
              "      <td>pr100166</td>\n",
              "    </tr>\n",
              "    <tr>\n",
              "      <th>34898</th>\n",
              "      <td>U136965</td>\n",
              "      <td>pr100709</td>\n",
              "    </tr>\n",
              "  </tbody>\n",
              "</table>\n",
              "<p>34899 rows × 2 columns</p>\n",
              "</div>"
            ],
            "text/plain": [
              "        UserID Recently_Viewed_Product\n",
              "0      U100002                pr100258\n",
              "1      U100003                pr100079\n",
              "2      U100004                pr100311\n",
              "3      U100005                pr100234\n",
              "4      U100006                pr101111\n",
              "...        ...                     ...\n",
              "34894  U136957                pr100118\n",
              "34895  U136959                pr100102\n",
              "34896  U136961                pr101381\n",
              "34897  U136963                pr100166\n",
              "34898  U136965                pr100709\n",
              "\n",
              "[34899 rows x 2 columns]"
            ]
          },
          "metadata": {
            "tags": []
          },
          "execution_count": 73
        }
      ]
    },
    {
      "cell_type": "code",
      "metadata": {
        "id": "nAHL42e3sjos"
      },
      "source": [
        "X_q6=X_q6.drop_duplicates(subset=['UserID'], keep='first').reset_index(drop= True) # drop duplicates if any"
      ],
      "execution_count": null,
      "outputs": []
    },
    {
      "cell_type": "code",
      "metadata": {
        "id": "5q7g6x9DnkiS"
      },
      "source": [
        "#Count of Page loads in the last 7 days by the user\n",
        "# Select last 7 days only and activity=pageload then find count for each userID\n",
        "X_q7=X[(X['vis_time']>wkday) & (X['vis_time']<last_date) & (X['Activity']=='pageload')].groupby(['UserID'])['Activity'].count().reset_index()"
      ],
      "execution_count": null,
      "outputs": []
    },
    {
      "cell_type": "code",
      "metadata": {
        "colab": {
          "base_uri": "https://localhost:8080/",
          "height": 402
        },
        "id": "vxqBsWHZtYV8",
        "outputId": "938b7445-a99e-41b0-9fc4-c95fde5e3afb"
      },
      "source": [
        "\n",
        "X_q7=X_q7.rename(columns={'Activity':'Pageloads_last_7_days'})\n",
        "X_q7 #Count of Page loads in the last 7 days by the user"
      ],
      "execution_count": null,
      "outputs": [
        {
          "output_type": "execute_result",
          "data": {
            "text/html": [
              "<div>\n",
              "<style scoped>\n",
              "    .dataframe tbody tr th:only-of-type {\n",
              "        vertical-align: middle;\n",
              "    }\n",
              "\n",
              "    .dataframe tbody tr th {\n",
              "        vertical-align: top;\n",
              "    }\n",
              "\n",
              "    .dataframe thead th {\n",
              "        text-align: right;\n",
              "    }\n",
              "</style>\n",
              "<table border=\"1\" class=\"dataframe\">\n",
              "  <thead>\n",
              "    <tr style=\"text-align: right;\">\n",
              "      <th></th>\n",
              "      <th>UserID</th>\n",
              "      <th>Pageloads_last_7_days</th>\n",
              "    </tr>\n",
              "  </thead>\n",
              "  <tbody>\n",
              "    <tr>\n",
              "      <th>0</th>\n",
              "      <td>U100003</td>\n",
              "      <td>1</td>\n",
              "    </tr>\n",
              "    <tr>\n",
              "      <th>1</th>\n",
              "      <td>U100004</td>\n",
              "      <td>1</td>\n",
              "    </tr>\n",
              "    <tr>\n",
              "      <th>2</th>\n",
              "      <td>U100005</td>\n",
              "      <td>1</td>\n",
              "    </tr>\n",
              "    <tr>\n",
              "      <th>3</th>\n",
              "      <td>U100006</td>\n",
              "      <td>1</td>\n",
              "    </tr>\n",
              "    <tr>\n",
              "      <th>4</th>\n",
              "      <td>U100008</td>\n",
              "      <td>23</td>\n",
              "    </tr>\n",
              "    <tr>\n",
              "      <th>...</th>\n",
              "      <td>...</td>\n",
              "      <td>...</td>\n",
              "    </tr>\n",
              "    <tr>\n",
              "      <th>14969</th>\n",
              "      <td>U136566</td>\n",
              "      <td>1</td>\n",
              "    </tr>\n",
              "    <tr>\n",
              "      <th>14970</th>\n",
              "      <td>U136604</td>\n",
              "      <td>1</td>\n",
              "    </tr>\n",
              "    <tr>\n",
              "      <th>14971</th>\n",
              "      <td>U136677</td>\n",
              "      <td>1</td>\n",
              "    </tr>\n",
              "    <tr>\n",
              "      <th>14972</th>\n",
              "      <td>U136749</td>\n",
              "      <td>1</td>\n",
              "    </tr>\n",
              "    <tr>\n",
              "      <th>14973</th>\n",
              "      <td>U136936</td>\n",
              "      <td>1</td>\n",
              "    </tr>\n",
              "  </tbody>\n",
              "</table>\n",
              "<p>14974 rows × 2 columns</p>\n",
              "</div>"
            ],
            "text/plain": [
              "        UserID  Pageloads_last_7_days\n",
              "0      U100003                      1\n",
              "1      U100004                      1\n",
              "2      U100005                      1\n",
              "3      U100006                      1\n",
              "4      U100008                     23\n",
              "...        ...                    ...\n",
              "14969  U136566                      1\n",
              "14970  U136604                      1\n",
              "14971  U136677                      1\n",
              "14972  U136749                      1\n",
              "14973  U136936                      1\n",
              "\n",
              "[14974 rows x 2 columns]"
            ]
          },
          "metadata": {
            "tags": []
          },
          "execution_count": 77
        }
      ]
    },
    {
      "cell_type": "code",
      "metadata": {
        "colab": {
          "base_uri": "https://localhost:8080/",
          "height": 402
        },
        "id": "TI-l2ntMpW_z",
        "outputId": "e5a7ef26-fd7f-4954-9900-fcfff5b2da97"
      },
      "source": [
        "#Count of Clicks in the last 7 days  by the user\n",
        "# Select last 7 days only and activity=click then find count for each userID\n",
        "X_q8=X[(X['vis_time']>wkday) & (X['vis_time']<last_date) & (X['Activity']=='click')].groupby(['UserID'])['Activity'].count().reset_index()\n",
        "X_q8=X_q8.rename(columns={'Activity':'Clicks_last_7_days'})\n",
        "X_q8"
      ],
      "execution_count": null,
      "outputs": [
        {
          "output_type": "execute_result",
          "data": {
            "text/html": [
              "<div>\n",
              "<style scoped>\n",
              "    .dataframe tbody tr th:only-of-type {\n",
              "        vertical-align: middle;\n",
              "    }\n",
              "\n",
              "    .dataframe tbody tr th {\n",
              "        vertical-align: top;\n",
              "    }\n",
              "\n",
              "    .dataframe thead th {\n",
              "        text-align: right;\n",
              "    }\n",
              "</style>\n",
              "<table border=\"1\" class=\"dataframe\">\n",
              "  <thead>\n",
              "    <tr style=\"text-align: right;\">\n",
              "      <th></th>\n",
              "      <th>UserID</th>\n",
              "      <th>Clicks_last_7_days</th>\n",
              "    </tr>\n",
              "  </thead>\n",
              "  <tbody>\n",
              "    <tr>\n",
              "      <th>0</th>\n",
              "      <td>U100003</td>\n",
              "      <td>2</td>\n",
              "    </tr>\n",
              "    <tr>\n",
              "      <th>1</th>\n",
              "      <td>U100005</td>\n",
              "      <td>1</td>\n",
              "    </tr>\n",
              "    <tr>\n",
              "      <th>2</th>\n",
              "      <td>U100008</td>\n",
              "      <td>34</td>\n",
              "    </tr>\n",
              "    <tr>\n",
              "      <th>3</th>\n",
              "      <td>U100009</td>\n",
              "      <td>6</td>\n",
              "    </tr>\n",
              "    <tr>\n",
              "      <th>4</th>\n",
              "      <td>U100012</td>\n",
              "      <td>16</td>\n",
              "    </tr>\n",
              "    <tr>\n",
              "      <th>...</th>\n",
              "      <td>...</td>\n",
              "      <td>...</td>\n",
              "    </tr>\n",
              "    <tr>\n",
              "      <th>11690</th>\n",
              "      <td>U136582</td>\n",
              "      <td>2</td>\n",
              "    </tr>\n",
              "    <tr>\n",
              "      <th>11691</th>\n",
              "      <td>U136611</td>\n",
              "      <td>1</td>\n",
              "    </tr>\n",
              "    <tr>\n",
              "      <th>11692</th>\n",
              "      <td>U136830</td>\n",
              "      <td>1</td>\n",
              "    </tr>\n",
              "    <tr>\n",
              "      <th>11693</th>\n",
              "      <td>U136933</td>\n",
              "      <td>1</td>\n",
              "    </tr>\n",
              "    <tr>\n",
              "      <th>11694</th>\n",
              "      <td>U136963</td>\n",
              "      <td>1</td>\n",
              "    </tr>\n",
              "  </tbody>\n",
              "</table>\n",
              "<p>11695 rows × 2 columns</p>\n",
              "</div>"
            ],
            "text/plain": [
              "        UserID  Clicks_last_7_days\n",
              "0      U100003                   2\n",
              "1      U100005                   1\n",
              "2      U100008                  34\n",
              "3      U100009                   6\n",
              "4      U100012                  16\n",
              "...        ...                 ...\n",
              "11690  U136582                   2\n",
              "11691  U136611                   1\n",
              "11692  U136830                   1\n",
              "11693  U136933                   1\n",
              "11694  U136963                   1\n",
              "\n",
              "[11695 rows x 2 columns]"
            ]
          },
          "metadata": {
            "tags": []
          },
          "execution_count": 78
        }
      ]
    },
    {
      "cell_type": "code",
      "metadata": {
        "id": "P2uvaRcZ2Bis"
      },
      "source": [
        "df=user_data['UserID'].sort_values().reset_index() # make a dataframe consisting of all userIDs"
      ],
      "execution_count": null,
      "outputs": []
    },
    {
      "cell_type": "code",
      "metadata": {
        "id": "_TuCoWPv5nJ2"
      },
      "source": [
        "df.drop('index', axis=1, inplace=True)"
      ],
      "execution_count": null,
      "outputs": []
    },
    {
      "cell_type": "code",
      "metadata": {
        "colab": {
          "base_uri": "https://localhost:8080/",
          "height": 402
        },
        "id": "5_uY-ZDT7p-5",
        "outputId": "f5571759-6a92-4a5a-e5b6-23fec71f78cf"
      },
      "source": [
        "df"
      ],
      "execution_count": null,
      "outputs": [
        {
          "output_type": "execute_result",
          "data": {
            "text/html": [
              "<div>\n",
              "<style scoped>\n",
              "    .dataframe tbody tr th:only-of-type {\n",
              "        vertical-align: middle;\n",
              "    }\n",
              "\n",
              "    .dataframe tbody tr th {\n",
              "        vertical-align: top;\n",
              "    }\n",
              "\n",
              "    .dataframe thead th {\n",
              "        text-align: right;\n",
              "    }\n",
              "</style>\n",
              "<table border=\"1\" class=\"dataframe\">\n",
              "  <thead>\n",
              "    <tr style=\"text-align: right;\">\n",
              "      <th></th>\n",
              "      <th>UserID</th>\n",
              "    </tr>\n",
              "  </thead>\n",
              "  <tbody>\n",
              "    <tr>\n",
              "      <th>0</th>\n",
              "      <td>U100002</td>\n",
              "    </tr>\n",
              "    <tr>\n",
              "      <th>1</th>\n",
              "      <td>U100003</td>\n",
              "    </tr>\n",
              "    <tr>\n",
              "      <th>2</th>\n",
              "      <td>U100004</td>\n",
              "    </tr>\n",
              "    <tr>\n",
              "      <th>3</th>\n",
              "      <td>U100005</td>\n",
              "    </tr>\n",
              "    <tr>\n",
              "      <th>4</th>\n",
              "      <td>U100006</td>\n",
              "    </tr>\n",
              "    <tr>\n",
              "      <th>...</th>\n",
              "      <td>...</td>\n",
              "    </tr>\n",
              "    <tr>\n",
              "      <th>34045</th>\n",
              "      <td>U136960</td>\n",
              "    </tr>\n",
              "    <tr>\n",
              "      <th>34046</th>\n",
              "      <td>U136961</td>\n",
              "    </tr>\n",
              "    <tr>\n",
              "      <th>34047</th>\n",
              "      <td>U136963</td>\n",
              "    </tr>\n",
              "    <tr>\n",
              "      <th>34048</th>\n",
              "      <td>U136964</td>\n",
              "    </tr>\n",
              "    <tr>\n",
              "      <th>34049</th>\n",
              "      <td>U136965</td>\n",
              "    </tr>\n",
              "  </tbody>\n",
              "</table>\n",
              "<p>34050 rows × 1 columns</p>\n",
              "</div>"
            ],
            "text/plain": [
              "        UserID\n",
              "0      U100002\n",
              "1      U100003\n",
              "2      U100004\n",
              "3      U100005\n",
              "4      U100006\n",
              "...        ...\n",
              "34045  U136960\n",
              "34046  U136961\n",
              "34047  U136963\n",
              "34048  U136964\n",
              "34049  U136965\n",
              "\n",
              "[34050 rows x 1 columns]"
            ]
          },
          "metadata": {
            "tags": []
          },
          "execution_count": 84
        }
      ]
    },
    {
      "cell_type": "code",
      "metadata": {
        "id": "wvhMEHfq4A2y"
      },
      "source": [
        "\n",
        "dfs=[X_q1,X_q2, X_q3, X_q4, X_q5, X_q6, X_q7, X_q8] #list comprising of all dataframes\n",
        "for i in range(len(dfs)):\n",
        "  df=pd.merge(df,dfs[i],how='left', on='UserID') # Merge all dataframes on userID\n"
      ],
      "execution_count": null,
      "outputs": []
    },
    {
      "cell_type": "code",
      "metadata": {
        "colab": {
          "base_uri": "https://localhost:8080/"
        },
        "id": "I8ROGOMN4xh5",
        "outputId": "a8b96891-1732-409e-91c7-f6d3eaf66c19"
      },
      "source": [
        "df.isnull().sum()"
      ],
      "execution_count": null,
      "outputs": [
        {
          "output_type": "execute_result",
          "data": {
            "text/plain": [
              "UserID                               0\n",
              "No_of_days_Visited_7_Days        17180\n",
              "No_Of_Products_Viewed_15_Days     7314\n",
              "User_Vintage                         0\n",
              "Most_Viewed_product_15_Days       9911\n",
              "Most_Active_OS                       0\n",
              "Recently_Viewed_Product           2829\n",
              "Pageloads_last_7_days            19076\n",
              "Clicks_last_7_days               22355\n",
              "dtype: int64"
            ]
          },
          "metadata": {
            "tags": []
          },
          "execution_count": 86
        }
      ]
    },
    {
      "cell_type": "code",
      "metadata": {
        "id": "vArjb6hw73S0"
      },
      "source": [
        "# If a user has not viewed any product in the last 15 days then put it as Product101\n",
        "df['Most_Viewed_product_15_Days']=df['Most_Viewed_product_15_Days'].fillna('Product101') "
      ],
      "execution_count": null,
      "outputs": []
    },
    {
      "cell_type": "code",
      "metadata": {
        "id": "6NOmNAuQ8v4R"
      },
      "source": [
        "# If a user has not viewed any product then put it as Product101\n",
        "df['Recently_Viewed_Product']=df['Recently_Viewed_Product'].fillna('Product101')"
      ],
      "execution_count": null,
      "outputs": []
    },
    {
      "cell_type": "code",
      "metadata": {
        "id": "1abEDPaw9PFE"
      },
      "source": [
        "df=df.fillna(0)"
      ],
      "execution_count": null,
      "outputs": []
    },
    {
      "cell_type": "code",
      "metadata": {
        "colab": {
          "base_uri": "https://localhost:8080/",
          "height": 422
        },
        "id": "usDVJWOt9egO",
        "outputId": "2169b624-85c5-4e4d-8dce-9325ae5aebf2"
      },
      "source": [
        "df"
      ],
      "execution_count": null,
      "outputs": [
        {
          "output_type": "execute_result",
          "data": {
            "text/html": [
              "<div>\n",
              "<style scoped>\n",
              "    .dataframe tbody tr th:only-of-type {\n",
              "        vertical-align: middle;\n",
              "    }\n",
              "\n",
              "    .dataframe tbody tr th {\n",
              "        vertical-align: top;\n",
              "    }\n",
              "\n",
              "    .dataframe thead th {\n",
              "        text-align: right;\n",
              "    }\n",
              "</style>\n",
              "<table border=\"1\" class=\"dataframe\">\n",
              "  <thead>\n",
              "    <tr style=\"text-align: right;\">\n",
              "      <th></th>\n",
              "      <th>UserID</th>\n",
              "      <th>No_of_days_Visited_7_Days</th>\n",
              "      <th>No_Of_Products_Viewed_15_Days</th>\n",
              "      <th>User_Vintage</th>\n",
              "      <th>Most_Viewed_product_15_Days</th>\n",
              "      <th>Most_Active_OS</th>\n",
              "      <th>Recently_Viewed_Product</th>\n",
              "      <th>Pageloads_last_7_days</th>\n",
              "      <th>Clicks_last_7_days</th>\n",
              "    </tr>\n",
              "  </thead>\n",
              "  <tbody>\n",
              "    <tr>\n",
              "      <th>0</th>\n",
              "      <td>U100002</td>\n",
              "      <td>0.0</td>\n",
              "      <td>2.0</td>\n",
              "      <td>52</td>\n",
              "      <td>pr100258</td>\n",
              "      <td>android</td>\n",
              "      <td>pr100258</td>\n",
              "      <td>0.0</td>\n",
              "      <td>0.0</td>\n",
              "    </tr>\n",
              "    <tr>\n",
              "      <th>1</th>\n",
              "      <td>U100003</td>\n",
              "      <td>1.0</td>\n",
              "      <td>3.0</td>\n",
              "      <td>1020</td>\n",
              "      <td>pr100079</td>\n",
              "      <td>windows</td>\n",
              "      <td>pr100079</td>\n",
              "      <td>1.0</td>\n",
              "      <td>2.0</td>\n",
              "    </tr>\n",
              "    <tr>\n",
              "      <th>2</th>\n",
              "      <td>U100004</td>\n",
              "      <td>1.0</td>\n",
              "      <td>15.0</td>\n",
              "      <td>340</td>\n",
              "      <td>pr100311</td>\n",
              "      <td>windows</td>\n",
              "      <td>pr100311</td>\n",
              "      <td>1.0</td>\n",
              "      <td>0.0</td>\n",
              "    </tr>\n",
              "    <tr>\n",
              "      <th>3</th>\n",
              "      <td>U100005</td>\n",
              "      <td>1.0</td>\n",
              "      <td>3.0</td>\n",
              "      <td>680</td>\n",
              "      <td>pr100234</td>\n",
              "      <td>android</td>\n",
              "      <td>pr100234</td>\n",
              "      <td>1.0</td>\n",
              "      <td>1.0</td>\n",
              "    </tr>\n",
              "    <tr>\n",
              "      <th>4</th>\n",
              "      <td>U100006</td>\n",
              "      <td>1.0</td>\n",
              "      <td>1.0</td>\n",
              "      <td>54</td>\n",
              "      <td>pr101111</td>\n",
              "      <td>android</td>\n",
              "      <td>pr101111</td>\n",
              "      <td>1.0</td>\n",
              "      <td>0.0</td>\n",
              "    </tr>\n",
              "    <tr>\n",
              "      <th>...</th>\n",
              "      <td>...</td>\n",
              "      <td>...</td>\n",
              "      <td>...</td>\n",
              "      <td>...</td>\n",
              "      <td>...</td>\n",
              "      <td>...</td>\n",
              "      <td>...</td>\n",
              "      <td>...</td>\n",
              "      <td>...</td>\n",
              "    </tr>\n",
              "    <tr>\n",
              "      <th>34045</th>\n",
              "      <td>U136960</td>\n",
              "      <td>0.0</td>\n",
              "      <td>0.0</td>\n",
              "      <td>754</td>\n",
              "      <td>Product101</td>\n",
              "      <td>windows</td>\n",
              "      <td>Product101</td>\n",
              "      <td>0.0</td>\n",
              "      <td>0.0</td>\n",
              "    </tr>\n",
              "    <tr>\n",
              "      <th>34046</th>\n",
              "      <td>U136961</td>\n",
              "      <td>0.0</td>\n",
              "      <td>0.0</td>\n",
              "      <td>59</td>\n",
              "      <td>Product101</td>\n",
              "      <td>android</td>\n",
              "      <td>pr101381</td>\n",
              "      <td>0.0</td>\n",
              "      <td>0.0</td>\n",
              "    </tr>\n",
              "    <tr>\n",
              "      <th>34047</th>\n",
              "      <td>U136963</td>\n",
              "      <td>1.0</td>\n",
              "      <td>1.0</td>\n",
              "      <td>1419</td>\n",
              "      <td>Product101</td>\n",
              "      <td>android</td>\n",
              "      <td>pr100166</td>\n",
              "      <td>0.0</td>\n",
              "      <td>1.0</td>\n",
              "    </tr>\n",
              "    <tr>\n",
              "      <th>34048</th>\n",
              "      <td>U136964</td>\n",
              "      <td>0.0</td>\n",
              "      <td>0.0</td>\n",
              "      <td>494</td>\n",
              "      <td>Product101</td>\n",
              "      <td>windows</td>\n",
              "      <td>Product101</td>\n",
              "      <td>0.0</td>\n",
              "      <td>0.0</td>\n",
              "    </tr>\n",
              "    <tr>\n",
              "      <th>34049</th>\n",
              "      <td>U136965</td>\n",
              "      <td>0.0</td>\n",
              "      <td>0.0</td>\n",
              "      <td>242</td>\n",
              "      <td>Product101</td>\n",
              "      <td>android</td>\n",
              "      <td>pr100709</td>\n",
              "      <td>0.0</td>\n",
              "      <td>0.0</td>\n",
              "    </tr>\n",
              "  </tbody>\n",
              "</table>\n",
              "<p>34050 rows × 9 columns</p>\n",
              "</div>"
            ],
            "text/plain": [
              "        UserID  ...  Clicks_last_7_days\n",
              "0      U100002  ...                 0.0\n",
              "1      U100003  ...                 2.0\n",
              "2      U100004  ...                 0.0\n",
              "3      U100005  ...                 1.0\n",
              "4      U100006  ...                 0.0\n",
              "...        ...  ...                 ...\n",
              "34045  U136960  ...                 0.0\n",
              "34046  U136961  ...                 0.0\n",
              "34047  U136963  ...                 1.0\n",
              "34048  U136964  ...                 0.0\n",
              "34049  U136965  ...                 0.0\n",
              "\n",
              "[34050 rows x 9 columns]"
            ]
          },
          "metadata": {
            "tags": []
          },
          "execution_count": 90
        }
      ]
    },
    {
      "cell_type": "code",
      "metadata": {
        "colab": {
          "base_uri": "https://localhost:8080/"
        },
        "id": "3nj9e2gJ9jAs",
        "outputId": "62aa8673-ca40-4e47-fe60-9e5f2ab5e404"
      },
      "source": [
        "df.isnull().sum()"
      ],
      "execution_count": null,
      "outputs": [
        {
          "output_type": "execute_result",
          "data": {
            "text/plain": [
              "UserID                           0\n",
              "No_of_days_Visited_7_Days        0\n",
              "No_Of_Products_Viewed_15_Days    0\n",
              "User_Vintage                     0\n",
              "Most_Viewed_product_15_Days      0\n",
              "Most_Active_OS                   0\n",
              "Recently_Viewed_Product          0\n",
              "Pageloads_last_7_days            0\n",
              "Clicks_last_7_days               0\n",
              "dtype: int64"
            ]
          },
          "metadata": {
            "tags": []
          },
          "execution_count": 91
        }
      ]
    },
    {
      "cell_type": "code",
      "metadata": {
        "id": "uajdejGU9kwV"
      },
      "source": [
        "df.to_csv('/content/gdrive/MyDrive/input_features.csv')"
      ],
      "execution_count": null,
      "outputs": []
    }
  ]
}